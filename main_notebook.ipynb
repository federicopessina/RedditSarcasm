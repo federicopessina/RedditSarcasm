{
    "metadata": {
        "kernelspec": {
            "name": "python3",
            "display_name": "Python 3",
            "language": "python"
        },
        "language_info": {
            "name": "python",
            "version": "3.7.6",
            "mimetype": "text/x-python",
            "codemirror_mode": {
                "name": "ipython",
                "version": 3
            },
            "pygments_lexer": "ipython3",
            "nbconvert_exporter": "python",
            "file_extension": ".py"
        }
    },
    "nbformat_minor": 2,
    "nbformat": 4,
    "cells": [
        {
            "cell_type": "markdown",
            "source": [
                "# Instructions\n",
                "\n",
                "## Dataset and Goal\n",
                "\n",
                "The Sarcasm on Reddit dataset provides comments posted on Reddit labeled as sarcastic (1) or not sarcastic (0). The task of the project is, given only the parent comment and the Reddit category (subreddit), to predict the probability of a parent comment to receive a sarcastic comment.\n",
                "\n",
                "  \n",
                "\n",
                "## Evaluation strategy\n",
                "\n",
                "Cross-validation.\n",
                "\n",
                "## Dataset\n",
                "\n",
                "[Sarcasm on Reddit](https://www.kaggle.com/danofer/sarcasm)\n",
                "\n",
                "## References\n",
                "\n",
                "[Khodak, M., Saunshi, N., & Vodrahalli, K. (2017). A large self-annotated corpus for sarcasm](https://arxiv.org/abs/1704.05579)\n",
                "\n",
                "[Eke, C. I., Norman, A. A., Shuib, L., & Nweke, H. F. (2019). Sarcasm identification in textual data: systematic review, research challenges and open directions. Artificial Intelligence Review, 1-44](https://link.springer.com/article/10.1007/s10462-019-09791-8)\n",
                "\n",
                "[Joshi, A., Bhattacharyya, P., & Carman, M. J. (2017). Automatic sarcasm detection: A survey. ACM Computing Surveys (CSUR), 50(5), 1-22](https://dl.acm.org/doi/abs/10.1145/3124420)"
            ],
            "metadata": {
                "azdata_cell_guid": "e1421d35-4c32-40d5-b343-c89aaae56fe7"
            }
        },
        {
            "cell_type": "markdown",
            "source": [
                "# Project"
            ],
            "metadata": {
                "azdata_cell_guid": "9c3eea27-9813-409b-9a79-3a361c729874"
            }
        },
        {
            "cell_type": "markdown",
            "source": [
                "## Import Dataset"
            ],
            "metadata": {
                "azdata_cell_guid": "91a9e388-19ae-4d16-a40b-1dc7c7ff462a"
            }
        },
        {
            "cell_type": "code",
            "source": [
                "import time         # calculate running time\n",
                "import os           # access directory structure\n",
                "import pandas as pd # data processing"
            ],
            "metadata": {
                "azdata_cell_guid": "74e4aa97-576c-41ac-bbb7-3258bdd7f961",
                "tags": []
            },
            "outputs": [],
            "execution_count": 18
        },
        {
            "cell_type": "markdown",
            "source": [
                "open all files"
            ],
            "metadata": {
                "azdata_cell_guid": "260e8d62-7a0c-489d-bfac-75e736ef0c30"
            }
        },
        {
            "cell_type": "code",
            "source": [
                "for dirname, _, filenames in os.walk('C:/Users/User/Desktop/university/text mining/ferrara/project/dataset'):\n",
                "    for filename in filenames:\n",
                "        print(os.path.join(dirname, filename))"
            ],
            "metadata": {
                "azdata_cell_guid": "f85ab73b-9a41-4155-b1e0-8513c9593e9b",
                "tags": []
            },
            "outputs": [
                {
                    "name": "stdout",
                    "text": "C:/Users/User/Desktop/university/text mining/ferrara/project/dataset\\test-balanced.csv\nC:/Users/User/Desktop/university/text mining/ferrara/project/dataset\\test-unbalanced.csv\nC:/Users/User/Desktop/university/text mining/ferrara/project/dataset\\train-balanced-sarc.csv.gz\nC:/Users/User/Desktop/university/text mining/ferrara/project/dataset\\train-balanced-sarcasm.csv\n",
                    "output_type": "stream"
                }
            ],
            "execution_count": 3
        },
        {
            "cell_type": "markdown",
            "source": [
                "train-balanced-sarcasm.csv file"
            ],
            "metadata": {
                "azdata_cell_guid": "82a79463-d577-4eea-a43d-0cad19ea492a"
            }
        },
        {
            "cell_type": "code",
            "source": [
                "number_of_rows_to_read = None # 'None' to read the whole file in script\r\n",
                "raw_data = pd.read_csv('C:/Users/User/Desktop/university/text mining/ferrara/project/dataset/train-balanced-sarcasm.csv', delimiter=',', nrows = number_of_rows_to_read)\r\n",
                "raw_data.name = 'train-balanced-sarcasm.csv'\r\n",
                "raw_data.number_of_rows, raw_data.number_of_cols = raw_data.shape\r\n",
                "\r\n",
                "print(f'There are {df_data.number_of_rows} rows and {df_data.number_of_cols} columns')"
            ],
            "metadata": {
                "azdata_cell_guid": "fe55dfaa-6b9b-434b-bb3d-cf219f532fe6"
            },
            "outputs": [
                {
                    "name": "stdout",
                    "text": "There are 1010826 rows and 10 columns\n",
                    "output_type": "stream"
                }
            ],
            "execution_count": 10
        },
        {
            "cell_type": "code",
            "source": [
                "raw_data.info()\r\n",
                "raw_data.head()"
            ],
            "metadata": {
                "azdata_cell_guid": "d2b08b95-b33a-4356-9752-8f96207a4e4d",
                "tags": []
            },
            "outputs": [
                {
                    "name": "stdout",
                    "text": "<class 'pandas.core.frame.DataFrame'>\nRangeIndex: 1010826 entries, 0 to 1010825\nData columns (total 10 columns):\n #   Column          Non-Null Count    Dtype \n---  ------          --------------    ----- \n 0   label           1010826 non-null  int64 \n 1   comment         1010773 non-null  object\n 2   author          1010826 non-null  object\n 3   subreddit       1010826 non-null  object\n 4   score           1010826 non-null  int64 \n 5   ups             1010826 non-null  int64 \n 6   downs           1010826 non-null  int64 \n 7   date            1010826 non-null  object\n 8   created_utc     1010826 non-null  object\n 9   parent_comment  1010826 non-null  object\ndtypes: int64(4), object(6)\nmemory usage: 77.1+ MB\n",
                    "output_type": "stream"
                },
                {
                    "data": {
                        "text/plain": "   label                                            comment     author  \\\n0      0                                         NC and NH.  Trumpbart   \n1      0  You do know west teams play against west teams...  Shbshb906   \n2      0  They were underdogs earlier today, but since G...   Creepeth   \n3      0  This meme isn't funny none of the \"new york ni...  icebrotha   \n4      0                    I could use one of those tools.  cush2push   \n\n            subreddit  score  ups  downs     date          created_utc  \\\n0            politics      2   -1     -1  2016-10  2016-10-16 23:55:23   \n1                 nba     -4   -1     -1  2016-11  2016-11-01 00:24:10   \n2                 nfl      3    3      0  2016-09  2016-09-22 21:45:37   \n3  BlackPeopleTwitter     -8   -1     -1  2016-10  2016-10-18 21:03:47   \n4  MaddenUltimateTeam      6   -1     -1  2016-12  2016-12-30 17:00:13   \n\n                                      parent_comment  \n0  Yeah, I get that argument. At this point, I'd ...  \n1  The blazers and Mavericks (The wests 5 and 6 s...  \n2                            They're favored to win.  \n3                         deadass don't kill my buzz  \n4  Yep can confirm I saw the tool they use for th...  ",
                        "text/html": "<div>\n<style scoped>\n    .dataframe tbody tr th:only-of-type {\n        vertical-align: middle;\n    }\n\n    .dataframe tbody tr th {\n        vertical-align: top;\n    }\n\n    .dataframe thead th {\n        text-align: right;\n    }\n</style>\n<table border=\"1\" class=\"dataframe\">\n  <thead>\n    <tr style=\"text-align: right;\">\n      <th></th>\n      <th>label</th>\n      <th>comment</th>\n      <th>author</th>\n      <th>subreddit</th>\n      <th>score</th>\n      <th>ups</th>\n      <th>downs</th>\n      <th>date</th>\n      <th>created_utc</th>\n      <th>parent_comment</th>\n    </tr>\n  </thead>\n  <tbody>\n    <tr>\n      <th>0</th>\n      <td>0</td>\n      <td>NC and NH.</td>\n      <td>Trumpbart</td>\n      <td>politics</td>\n      <td>2</td>\n      <td>-1</td>\n      <td>-1</td>\n      <td>2016-10</td>\n      <td>2016-10-16 23:55:23</td>\n      <td>Yeah, I get that argument. At this point, I'd ...</td>\n    </tr>\n    <tr>\n      <th>1</th>\n      <td>0</td>\n      <td>You do know west teams play against west teams...</td>\n      <td>Shbshb906</td>\n      <td>nba</td>\n      <td>-4</td>\n      <td>-1</td>\n      <td>-1</td>\n      <td>2016-11</td>\n      <td>2016-11-01 00:24:10</td>\n      <td>The blazers and Mavericks (The wests 5 and 6 s...</td>\n    </tr>\n    <tr>\n      <th>2</th>\n      <td>0</td>\n      <td>They were underdogs earlier today, but since G...</td>\n      <td>Creepeth</td>\n      <td>nfl</td>\n      <td>3</td>\n      <td>3</td>\n      <td>0</td>\n      <td>2016-09</td>\n      <td>2016-09-22 21:45:37</td>\n      <td>They're favored to win.</td>\n    </tr>\n    <tr>\n      <th>3</th>\n      <td>0</td>\n      <td>This meme isn't funny none of the \"new york ni...</td>\n      <td>icebrotha</td>\n      <td>BlackPeopleTwitter</td>\n      <td>-8</td>\n      <td>-1</td>\n      <td>-1</td>\n      <td>2016-10</td>\n      <td>2016-10-18 21:03:47</td>\n      <td>deadass don't kill my buzz</td>\n    </tr>\n    <tr>\n      <th>4</th>\n      <td>0</td>\n      <td>I could use one of those tools.</td>\n      <td>cush2push</td>\n      <td>MaddenUltimateTeam</td>\n      <td>6</td>\n      <td>-1</td>\n      <td>-1</td>\n      <td>2016-12</td>\n      <td>2016-12-30 17:00:13</td>\n      <td>Yep can confirm I saw the tool they use for th...</td>\n    </tr>\n  </tbody>\n</table>\n</div>"
                    },
                    "metadata": {},
                    "execution_count": 11,
                    "output_type": "execute_result"
                }
            ],
            "execution_count": 11
        },
        {
            "cell_type": "code",
            "source": [
                "raw_data.describe()"
            ],
            "metadata": {
                "azdata_cell_guid": "0f77401c-7625-49d7-81f9-6470c5548bf3"
            },
            "outputs": [
                {
                    "data": {
                        "text/plain": "           label         score           ups         downs\ncount  1010826.0  1.010826e+06  1.010826e+06  1.010826e+06\nmean         0.5  6.885676e+00  5.498885e+00 -1.458629e-01\nstd          0.5  4.834288e+01  4.127297e+01  3.529689e-01\nmin          0.0 -5.070000e+02 -5.070000e+02 -1.000000e+00\n25%          0.0  1.000000e+00  0.000000e+00  0.000000e+00\n50%          0.5  2.000000e+00  1.000000e+00  0.000000e+00\n75%          1.0  4.000000e+00  3.000000e+00  0.000000e+00\nmax          1.0  9.070000e+03  5.163000e+03  0.000000e+00",
                        "text/html": "<div>\n<style scoped>\n    .dataframe tbody tr th:only-of-type {\n        vertical-align: middle;\n    }\n\n    .dataframe tbody tr th {\n        vertical-align: top;\n    }\n\n    .dataframe thead th {\n        text-align: right;\n    }\n</style>\n<table border=\"1\" class=\"dataframe\">\n  <thead>\n    <tr style=\"text-align: right;\">\n      <th></th>\n      <th>label</th>\n      <th>score</th>\n      <th>ups</th>\n      <th>downs</th>\n    </tr>\n  </thead>\n  <tbody>\n    <tr>\n      <th>count</th>\n      <td>1010826.0</td>\n      <td>1.010826e+06</td>\n      <td>1.010826e+06</td>\n      <td>1.010826e+06</td>\n    </tr>\n    <tr>\n      <th>mean</th>\n      <td>0.5</td>\n      <td>6.885676e+00</td>\n      <td>5.498885e+00</td>\n      <td>-1.458629e-01</td>\n    </tr>\n    <tr>\n      <th>std</th>\n      <td>0.5</td>\n      <td>4.834288e+01</td>\n      <td>4.127297e+01</td>\n      <td>3.529689e-01</td>\n    </tr>\n    <tr>\n      <th>min</th>\n      <td>0.0</td>\n      <td>-5.070000e+02</td>\n      <td>-5.070000e+02</td>\n      <td>-1.000000e+00</td>\n    </tr>\n    <tr>\n      <th>25%</th>\n      <td>0.0</td>\n      <td>1.000000e+00</td>\n      <td>0.000000e+00</td>\n      <td>0.000000e+00</td>\n    </tr>\n    <tr>\n      <th>50%</th>\n      <td>0.5</td>\n      <td>2.000000e+00</td>\n      <td>1.000000e+00</td>\n      <td>0.000000e+00</td>\n    </tr>\n    <tr>\n      <th>75%</th>\n      <td>1.0</td>\n      <td>4.000000e+00</td>\n      <td>3.000000e+00</td>\n      <td>0.000000e+00</td>\n    </tr>\n    <tr>\n      <th>max</th>\n      <td>1.0</td>\n      <td>9.070000e+03</td>\n      <td>5.163000e+03</td>\n      <td>0.000000e+00</td>\n    </tr>\n  </tbody>\n</table>\n</div>"
                    },
                    "metadata": {},
                    "execution_count": 12,
                    "output_type": "execute_result"
                }
            ],
            "execution_count": 12
        },
        {
            "cell_type": "markdown",
            "source": [
                "## Data Cleaning"
            ],
            "metadata": {
                "azdata_cell_guid": "8c713f28-96ac-474a-aae8-a495396aec34"
            }
        },
        {
            "cell_type": "markdown",
            "source": [
                "drop NaNs tuples"
            ],
            "metadata": {
                "azdata_cell_guid": "af78a60f-0d24-4976-ad20-78894da7d7b0"
            }
        },
        {
            "cell_type": "code",
            "source": [
                "raw_data.isna().sum(axis = 0)"
            ],
            "metadata": {
                "azdata_cell_guid": "8b10790a-a3e9-44f9-b8b3-b06ab90a4e58"
            },
            "outputs": [
                {
                    "data": {
                        "text/plain": "label              0\ncomment           53\nauthor             0\nsubreddit          0\nscore              0\nups                0\ndowns              0\ndate               0\ncreated_utc        0\nparent_comment     0\ndtype: int64"
                    },
                    "metadata": {},
                    "execution_count": 13,
                    "output_type": "execute_result"
                }
            ],
            "execution_count": 13
        },
        {
            "cell_type": "code",
            "source": [
                "na_comments = raw_data[\"comment\"].isna()\r\n",
                "na_comments = raw_data[na_comments].index\r\n",
                "raw_data.drop(   labels = na_comments,      # Index or column labels to drop.\r\n",
                "                axis = 0,                   # Whether to drop labels from the index (0 or ‘index’) or columns (1 or ‘columns’).\r\n",
                "                inplace = True)             # If False, return a copy. Otherwise, do operation inplace and return None."
            ],
            "metadata": {
                "azdata_cell_guid": "9f6f564d-0f75-49cd-b474-90b71a832ca2"
            },
            "outputs": [],
            "execution_count": 15
        },
        {
            "cell_type": "markdown",
            "source": [
                "Eliminate columns that are not interesting for our research"
            ],
            "metadata": {
                "azdata_cell_guid": "4e959930-6557-4ea7-a346-9e8939ba6156"
            }
        },
        {
            "cell_type": "code",
            "source": [
                "raw_data = raw_data[['comment', 'parent_comment', 'subreddit', 'label']]\r\n",
                "raw_data.info()"
            ],
            "metadata": {
                "azdata_cell_guid": "710aba6d-d497-4ff7-8850-d36e560a2689"
            },
            "outputs": [
                {
                    "name": "stdout",
                    "text": "<class 'pandas.core.frame.DataFrame'>\nInt64Index: 1010773 entries, 0 to 1010825\nData columns (total 4 columns):\n #   Column          Non-Null Count    Dtype \n---  ------          --------------    ----- \n 0   comment         1010773 non-null  object\n 1   parent_comment  1010773 non-null  object\n 2   subreddit       1010773 non-null  object\n 3   label           1010773 non-null  int64 \ndtypes: int64(1), object(3)\nmemory usage: 38.6+ MB\n",
                    "output_type": "stream"
                }
            ],
            "execution_count": 16
        },
        {
            "cell_type": "markdown",
            "source": [
                "## Data Exploration"
            ],
            "metadata": {
                "azdata_cell_guid": "2561b2c7-7d03-4c2e-bdeb-c13daee2905a"
            }
        },
        {
            "cell_type": "markdown",
            "source": [
                "### Subreddits"
            ],
            "metadata": {
                "azdata_cell_guid": "f1f665e1-bb3c-4018-abc5-f53897df812a"
            }
        },
        {
            "cell_type": "markdown",
            "source": [
                "Number of subreddits"
            ],
            "metadata": {
                "azdata_cell_guid": "ca6275bb-c34c-4ab1-991d-bb53a36f70b3"
            }
        },
        {
            "cell_type": "code",
            "source": [
                "number_of_subreddits = len(raw_data[\"subreddit\"].unique())\r\n",
                "number_of_subreddits"
            ],
            "metadata": {
                "azdata_cell_guid": "f19f26e5-ee55-436c-995b-784ed2788a3a"
            },
            "outputs": [
                {
                    "data": {
                        "text/plain": "14876"
                    },
                    "metadata": {},
                    "execution_count": 20,
                    "output_type": "execute_result"
                }
            ],
            "execution_count": 20
        },
        {
            "cell_type": "markdown",
            "source": [
                "Most frequent subreddits"
            ],
            "metadata": {
                "azdata_cell_guid": "0c514687-b1fe-41a6-aea9-6f1e1a2d5954"
            }
        },
        {
            "cell_type": "code",
            "source": [
                "import dataframe_image as dfi\r\n",
                "\r\n",
                "most_frequent_subreddits = raw_data[\"subreddit\"].value_counts()[0:25] # get the [:n] most freq subreddit\r\n",
                "most_frequent_subreddits = list(most_frequent_subreddits.index)\r\n",
                "most_frequent_subreddits_percentual = raw_data[df_data[\"subreddit\"].isin(most_frequent_subreddits)].groupby(\"subreddit\").agg({\"label\" : \"mean\"})\r\n",
                "most_frequent_subreddits_percentual_sorted = most_frequent_subreddits_percentual.sort_values(by = 'label',\r\n",
                "                                                ascending = False)\r\n",
                "\r\n",
                "dfi.export(most_frequent_subreddits_percentual_sorted, 'most_frequent_subreddits_percentual_sorted.png')\r\n",
                "most_frequent_subreddits_percentual_sorted"
            ],
            "metadata": {
                "azdata_cell_guid": "4c1c51e3-9980-44b3-b839-0fe628b9a651"
            },
            "outputs": [
                {
                    "data": {
                        "text/plain": "                    label\nsubreddit                \nworldnews        0.642516\natheism          0.639555\nTumblrInAction   0.609766\npolitics         0.605348\nnews             0.603457\ntechnology       0.599965\npcmasterrace     0.566651\nAdviceAnimals    0.560822\nGlobalOffensive  0.552045\nsoccer           0.547658\ntodayilearned    0.547567\nleagueoflegends  0.542312\nhockey           0.528119\nnba              0.526509\nCFB              0.513195\nnfl              0.509859\nDotA2            0.493478\nvideos           0.493425\ngaming           0.488661\nmovies           0.484580\npics             0.484336\nThe_Donald       0.462640\nWTF              0.456790\nfunny            0.451474\nAskReddit        0.401453",
                        "text/html": "<div>\n<style scoped>\n    .dataframe tbody tr th:only-of-type {\n        vertical-align: middle;\n    }\n\n    .dataframe tbody tr th {\n        vertical-align: top;\n    }\n\n    .dataframe thead th {\n        text-align: right;\n    }\n</style>\n<table border=\"1\" class=\"dataframe\">\n  <thead>\n    <tr style=\"text-align: right;\">\n      <th></th>\n      <th>label</th>\n    </tr>\n    <tr>\n      <th>subreddit</th>\n      <th></th>\n    </tr>\n  </thead>\n  <tbody>\n    <tr>\n      <th>worldnews</th>\n      <td>0.642516</td>\n    </tr>\n    <tr>\n      <th>atheism</th>\n      <td>0.639555</td>\n    </tr>\n    <tr>\n      <th>TumblrInAction</th>\n      <td>0.609766</td>\n    </tr>\n    <tr>\n      <th>politics</th>\n      <td>0.605348</td>\n    </tr>\n    <tr>\n      <th>news</th>\n      <td>0.603457</td>\n    </tr>\n    <tr>\n      <th>technology</th>\n      <td>0.599965</td>\n    </tr>\n    <tr>\n      <th>pcmasterrace</th>\n      <td>0.566651</td>\n    </tr>\n    <tr>\n      <th>AdviceAnimals</th>\n      <td>0.560822</td>\n    </tr>\n    <tr>\n      <th>GlobalOffensive</th>\n      <td>0.552045</td>\n    </tr>\n    <tr>\n      <th>soccer</th>\n      <td>0.547658</td>\n    </tr>\n    <tr>\n      <th>todayilearned</th>\n      <td>0.547567</td>\n    </tr>\n    <tr>\n      <th>leagueoflegends</th>\n      <td>0.542312</td>\n    </tr>\n    <tr>\n      <th>hockey</th>\n      <td>0.528119</td>\n    </tr>\n    <tr>\n      <th>nba</th>\n      <td>0.526509</td>\n    </tr>\n    <tr>\n      <th>CFB</th>\n      <td>0.513195</td>\n    </tr>\n    <tr>\n      <th>nfl</th>\n      <td>0.509859</td>\n    </tr>\n    <tr>\n      <th>DotA2</th>\n      <td>0.493478</td>\n    </tr>\n    <tr>\n      <th>videos</th>\n      <td>0.493425</td>\n    </tr>\n    <tr>\n      <th>gaming</th>\n      <td>0.488661</td>\n    </tr>\n    <tr>\n      <th>movies</th>\n      <td>0.484580</td>\n    </tr>\n    <tr>\n      <th>pics</th>\n      <td>0.484336</td>\n    </tr>\n    <tr>\n      <th>The_Donald</th>\n      <td>0.462640</td>\n    </tr>\n    <tr>\n      <th>WTF</th>\n      <td>0.456790</td>\n    </tr>\n    <tr>\n      <th>funny</th>\n      <td>0.451474</td>\n    </tr>\n    <tr>\n      <th>AskReddit</th>\n      <td>0.401453</td>\n    </tr>\n  </tbody>\n</table>\n</div>"
                    },
                    "metadata": {},
                    "execution_count": 22,
                    "output_type": "execute_result"
                }
            ],
            "execution_count": 22
        },
        {
            "cell_type": "code",
            "source": [
                "value_count_subreddits_series"
            ],
            "metadata": {
                "azdata_cell_guid": "aae486c4-edea-4bb3-ab55-024234df444c"
            },
            "outputs": [
                {
                    "data": {
                        "text/plain": "AskReddit                65674\npolitics                 39493\nworldnews                26376\nleagueoflegends          21034\npcmasterrace             18987\n                         ...  \nsamandpaul                   1\nplastic                      1\nleggingsgonewild             1\nRandomActsOfMechanics        1\nTybeeDiskin                  1\nName: subreddit, Length: 14876, dtype: int64"
                    },
                    "metadata": {},
                    "execution_count": 24,
                    "output_type": "execute_result"
                }
            ],
            "execution_count": 24
        },
        {
            "cell_type": "markdown",
            "source": [
                "## Train/Validation Split"
            ],
            "metadata": {
                "azdata_cell_guid": "16311da8-8402-4c5c-8c28-51069b0bfc9f"
            }
        },
        {
            "cell_type": "code",
            "source": [
                "from sklearn.model_selection import train_test_split\r\n",
                "\r\n",
                "train_data, test_data = train_test_split( raw_data, \r\n",
                "                                        test_size = 0.15, \r\n",
                "                                        random_state = 123) # shuffling applied before applying the split\r\n",
                "print(train_data.shape)\r\n",
                "print(test_data.shape)"
            ],
            "metadata": {
                "azdata_cell_guid": "a7db75c5-a326-4810-a223-b05fb39ea71b"
            },
            "outputs": [
                {
                    "name": "stdout",
                    "text": "(859157, 4)\n(151616, 4)\n",
                    "output_type": "stream"
                }
            ],
            "execution_count": 26
        },
        {
            "cell_type": "code",
            "source": [
                "train_comments = train_data['comment']\r\n",
                "test_comment = test_data['comment']\r\n",
                "\r\n",
                "train_subreddit = train_data['subreddit']\r\n",
                "test_subreddit = test_data['subreddit']\r\n",
                "\r\n",
                "train_parent_comment = train_data['parent_comment']\r\n",
                "test_parent_comment = test_data['parent_comment']\r\n",
                "\r\n",
                "train_label = train_data['label']\r\n",
                "test_label = test_data['label']"
            ],
            "metadata": {
                "azdata_cell_guid": "e4dca6e6-2db8-49f5-9ddc-76bbf193d9ff",
                "tags": []
            },
            "outputs": [],
            "execution_count": 31
        },
        {
            "cell_type": "markdown",
            "source": [
                "Check if distribution from partition is balanced"
            ],
            "metadata": {
                "azdata_cell_guid": "e1ac64f6-f80c-4736-899d-9b6df83a07cf"
            }
        },
        {
            "cell_type": "code",
            "source": [
                "import numpy as np\r\n",
                "import matplotlib.pyplot as plt\r\n",
                "\r\n",
                "# Distribution graphs (histogram/bar graph) of column data\r\n",
                "def plot_per_column_distribution(df, number_of_graphs_shown, number_of_graph_per_rows, filename):\r\n",
                "    nunique = df.nunique() # Count distinct observations over requested axis\r\n",
                "    df = df[[col for col in df if nunique[col] > 1 and nunique[col] < 50]] # pick columns that have between 1 and 50 unique values\r\n",
                "    _number_of_rows, _number_of_cols = df.shape\r\n",
                "    _column_names = list(df)\r\n",
                "    _number_of_graph_rows = (_number_of_cols + number_of_graph_per_rows - 1) / number_of_graph_per_rows\r\n",
                "    plt.figure(num = None, figsize = (6 * number_of_graph_per_rows, 8 * _number_of_graph_rows), dpi = 80, facecolor = 'w', edgecolor = 'k')\r\n",
                "    \r\n",
                "    for i in range(min(_number_of_cols, number_of_graphs_shown)):\r\n",
                "        plt.subplot(_number_of_graph_rows, number_of_graph_per_rows, i + 1)\r\n",
                "        columnDf = df.iloc[:, i]\r\n",
                "        if (not np.issubdtype(type(columnDf.iloc[0]), np.number)):\r\n",
                "            valueCounts = columnDf.value_counts()\r\n",
                "            valueCounts.plot.bar()\r\n",
                "        else:\r\n",
                "            columnDf.hist()\r\n",
                "        plt.ylabel('counts')\r\n",
                "        plt.xticks(rotation = 90)\r\n",
                "        plt.title(f'{_column_names[i]} (column {i})')\r\n",
                "    \r\n",
                "    plt.tight_layout(pad = 1.0, w_pad = 1.0, h_pad = 1.0)\r\n",
                "    \r\n",
                "    # save image\r\n",
                "    plt.savefig(filename + \".png\", \r\n",
                "                bbox_inches = 'tight', \r\n",
                "                pad_inches = 0.15) # savefig() before show()\r\n",
                "    # show image\r\n",
                "    plt.show()\r\n",
                "\r\n",
                "\r\n",
                "plot_per_column_distribution(train_data, 10, 5, \"train_data_count_barplot\")\r\n",
                "plot_per_column_distribution(test_data, 10, 5, \"train_data_count_barplot\")"
            ],
            "metadata": {
                "azdata_cell_guid": "5221c9f0-7c18-496c-98db-e61889bd5be4"
            },
            "outputs": [
                {
                    "data": {
                        "text/plain": "<Figure size 2400x640 with 1 Axes>",
                        "image/png": "[encoded data removed]"
                    },
                    "metadata": {},
                    "output_type": "display_data"
                },
                {
                    "data": {
                        "text/plain": "<Figure size 2400x640 with 1 Axes>",
                        "image/png": "[encoded data removed]"
                    },
                    "metadata": {},
                    "output_type": "display_data"
                }
            ],
            "execution_count": 32
        },
        {
            "cell_type": "markdown",
            "source": [
                "## Model"
            ],
            "metadata": {
                "azdata_cell_guid": "3f473699-fa41-48fa-887f-2a737e139cf2"
            }
        },
        {
            "cell_type": "code",
            "source": [
                "from sklearn.feature_extraction.text import CountVectorizer, TfidfTransformer\r\n",
                "from sklearn.pipeline import Pipeline\r\n",
                "from sklearn.model_selection import GridSearchCV, cross_validate"
            ],
            "metadata": {
                "azdata_cell_guid": "3d5dc88c-0f7e-4baf-8a94-908483b5634f"
            },
            "outputs": [],
            "execution_count": 35
        },
        {
            "cell_type": "markdown",
            "source": [
                "import stopwords from nltk library"
            ],
            "metadata": {
                "azdata_cell_guid": "8fff3909-4469-4fea-b032-18dbb83c17c4"
            }
        },
        {
            "cell_type": "code",
            "source": [
                "from nltk.corpus import stopwords\r\n",
                "stop_words_en = stopwords.words(\"english\")"
            ],
            "metadata": {
                "azdata_cell_guid": "fae2ff5f-0860-4eaf-b124-12dc78919db5",
                "tags": []
            },
            "outputs": [],
            "execution_count": 36
        },
        {
            "cell_type": "code",
            "source": [
                "token_count_matrix = CountVectorizer(   strip_accents = 'unicode', \r\n",
                "                                        stop_words = stop_words_en, \r\n",
                "                                        min_df = 0.0001, \r\n",
                "                                        max_df = 0.70)\r\n",
                "token_count_matrix"
            ],
            "metadata": {
                "azdata_cell_guid": "8e34aebd-df51-4e74-ade7-c2cdd08bff11",
                "tags": []
            },
            "outputs": [
                {
                    "data": {
                        "text/plain": "CountVectorizer(analyzer='word', binary=False, decode_error='strict',\n                dtype=<class 'numpy.int64'>, encoding='utf-8', input='content',\n                lowercase=True, max_df=0.7, max_features=None, min_df=0.0001,\n                ngram_range=(1, 1), preprocessor=None,\n                stop_words=['i', 'me', 'my', 'myself', 'we', 'our', 'ours',\n                            'ourselves', 'you', \"you're\", \"you've\", \"you'll\",\n                            \"you'd\", 'your', 'yours', 'yourself', 'yourselves',\n                            'he', 'him', 'his', 'himself', 'she', \"she's\",\n                            'her', 'hers', 'herself', 'it', \"it's\", 'its',\n                            'itself', ...],\n                strip_accents='unicode', token_pattern='(?u)\\\\b\\\\w\\\\w+\\\\b',\n                tokenizer=None, vocabulary=None)"
                    },
                    "metadata": {},
                    "execution_count": 37,
                    "output_type": "execute_result"
                }
            ],
            "execution_count": 37
        },
        {
            "cell_type": "code",
            "source": [
                "train_bow = token_count_matrix.fit_transform(train_comments)\r\n",
                "train_bow"
            ],
            "metadata": {
                "azdata_cell_guid": "8ef1b1b5-a966-4b14-8b5a-730af1be6f7f",
                "tags": []
            },
            "outputs": [
                {
                    "output_type": "execute_result",
                    "execution_count": 33,
                    "data": {
                        "text/plain": "<2x2 sparse matrix of type '<class 'numpy.int64'>'\n\twith 2 stored elements in Compressed Sparse Row format>"
                    },
                    "metadata": {}
                }
            ],
            "execution_count": 33
        },
        {
            "cell_type": "code",
            "source": [
                "tfidf_trans_normalized = TfidfTransformer()\r\n",
                "train_tfidf = tfidf_trans_normalized.fit_transform(train_bow)"
            ],
            "metadata": {
                "azdata_cell_guid": "5a9c8cb5-7db6-48a0-b1d3-a8cabfcfd39c"
            },
            "outputs": [],
            "execution_count": 35
        },
        {
            "cell_type": "markdown",
            "source": [
                "### Logistic Regression"
            ],
            "metadata": {
                "azdata_cell_guid": "d03ed062-c1c0-4b6c-b527-c23993cf237c"
            }
        },
        {
            "cell_type": "markdown",
            "source": [
                "make a classifier using Logistic Regression only for comment attribute with a Bag of Words"
            ],
            "metadata": {
                "azdata_cell_guid": "bdbd8368-4136-4822-a59a-ec0ce2373a02"
            }
        },
        {
            "cell_type": "code",
            "source": [
                "%time\r\n",
                "from sklearn.linear_model import LogisticRegression\r\n",
                "\r\n",
                "log_reg_model = LogisticRegression(random_state = 123)\r\n",
                "cross_validate(log_reg_model, \r\n",
                "                train_bow, \r\n",
                "                train_label, \r\n",
                "                cv = 2, \r\n",
                "                scoring = \"accuracy\", \r\n",
                "                n_jobs =- 1)"
            ],
            "metadata": {
                "azdata_cell_guid": "6cbabbb1-be74-43e4-b1ed-1c766e86eb88"
            },
            "outputs": [
                {
                    "output_type": "stream",
                    "name": "stdout",
                    "text": "Wall time: 0 ns\n"
                },
                {
                    "output_type": "execute_result",
                    "execution_count": 33,
                    "data": {
                        "text/plain": "{'fit_time': array([2.59306908, 2.75562692]),\n 'score_time': array([0.02692413, 0.0229733 ]),\n 'test_score': array([0.54992085, 0.54950862])}"
                    },
                    "metadata": {}
                }
            ],
            "execution_count": 33
        },
        {
            "cell_type": "code",
            "source": [
                "log_reg_model = LogisticRegression(random_state = 42, \r\n",
                "                                    penalty = \"elasticnet\", \r\n",
                "                                    solver = \"saga\")\r\n",
                "\r\n",
                "pipeline = Pipeline([\r\n",
                "    ('vect', token_count_matrix),\r\n",
                "    ('tftrans', tfidf_trans_normalized),\r\n",
                "    ('model', log_reg_model)\r\n",
                "])\r\n",
                "\r\n",
                "param_grid = {\r\n",
                "    'vect__ngram_range': [(1, 1), (1, 2), (1, 3)],\r\n",
                "    'vect__max_features': (5000, 15000, 30000),\r\n",
                "    'model__l1_ratio': (0.0, 0.25, 0.50, 0.75, 1.0)\r\n",
                "}"
            ],
            "metadata": {
                "azdata_cell_guid": "533431af-f35a-4792-9b5f-06aff8256dd3",
                "tags": []
            },
            "outputs": [],
            "execution_count": 34
        },
        {
            "cell_type": "code",
            "source": [
                "%time\r\n",
                "grid_logreg = GridSearchCV(pipeline, param_grid, scoring = \"accuracy\", cv = 2, n_jobs =- 1)\r\n",
                "grid_logreg.fit(train_comments_slim, train_label_slim)"
            ],
            "metadata": {
                "azdata_cell_guid": "6cb4bbdb-b55d-4dc9-b365-461988d14546"
            },
            "outputs": [
                {
                    "output_type": "stream",
                    "name": "stdout",
                    "text": "Wall time: 0 ns\n"
                },
                {
                    "output_type": "execute_result",
                    "execution_count": 35,
                    "data": {
                        "text/plain": "GridSearchCV(cv=2, error_score=nan,\n             estimator=Pipeline(memory=None,\n                                steps=[('vect',\n                                        CountVectorizer(analyzer='word',\n                                                        binary=False,\n                                                        decode_error='strict',\n                                                        dtype=<class 'numpy.int64'>,\n                                                        encoding='utf-8',\n                                                        input='content',\n                                                        lowercase=True,\n                                                        max_df=0.7,\n                                                        max_features=None,\n                                                        min_df=0.0001,\n                                                        ngram_range=(1, 1),\n                                                        preprocessor=None,\n                                                        stop_words=['i', 'me',\n                                                                    'my',\n                                                                    'myself',\n                                                                    'we', 'our',\n                                                                    'ou...\n                                                           penalty='elasticnet',\n                                                           random_state=42,\n                                                           solver='saga',\n                                                           tol=0.0001,\n                                                           verbose=0,\n                                                           warm_start=False))],\n                                verbose=False),\n             iid='deprecated', n_jobs=-1,\n             param_grid={'model__l1_ratio': (0.0, 0.25, 0.5, 0.75, 1.0),\n                         'vect__max_features': (5000, 15000, 30000),\n                         'vect__ngram_range': [(1, 1), (1, 2), (1, 3)]},\n             pre_dispatch='2*n_jobs', refit=True, return_train_score=False,\n             scoring='accuracy', verbose=0)"
                    },
                    "metadata": {}
                }
            ],
            "execution_count": 35
        },
        {
            "cell_type": "code",
            "source": [
                "print(grid_logreg.best_index_)\r\n",
                "print(grid_logreg.best_params_)\r\n",
                "print(grid_logreg.best_score_)\r\n",
                "print(grid_logreg.__dict__)"
            ],
            "metadata": {
                "azdata_cell_guid": "ac159452-79b0-495f-900f-58a58e05721d"
            },
            "outputs": [
                {
                    "output_type": "stream",
                    "name": "stdout",
                    "text": "35\n{'model__l1_ratio': 0.75, 'vect__max_features': 30000, 'vect__ngram_range': (1, 3)}\n0.5651403225274544\n{'scoring': 'accuracy', 'estimator': Pipeline(memory=None,\n         steps=[('vect',\n                 CountVectorizer(analyzer='word', binary=False,\n                                 decode_error='strict',\n                                 dtype=<class 'numpy.int64'>, encoding='utf-8',\n                                 input='content', lowercase=True, max_df=0.7,\n                                 max_features=None, min_df=0.0001,\n                                 ngram_range=(1, 1), preprocessor=None,\n                                 stop_words=['i', 'me', 'my', 'myself', 'we',\n                                             'our', 'ours', 'ourselves', 'you',\n                                             \"you're\", \"you've\", \"you...\n                ('tftrans',\n                 TfidfTransformer(norm='l2', smooth_idf=True,\n                                  sublinear_tf=False, use_idf=True)),\n                ('model',\n                 LogisticRegression(C=1.0, class_weight=None, dual=False,\n                                    fit_intercept=True, intercept_scaling=1,\n                                    l1_ratio=None, max_iter=100,\n                                    multi_class='auto', n_jobs=None,\n                                    penalty='elasticnet', random_state=42,\n                                    solver='saga', tol=0.0001, verbose=0,\n                                    warm_start=False))],\n         verbose=False), 'n_jobs': -1, 'iid': 'deprecated', 'refit': True, 'cv': 2, 'verbose': 0, 'pre_dispatch': '2*n_jobs', 'error_score': nan, 'return_train_score': False, 'param_grid': {'vect__ngram_range': [(1, 1), (1, 2), (1, 3)], 'vect__max_features': (5000, 15000, 30000), 'model__l1_ratio': (0.0, 0.25, 0.5, 0.75, 1.0)}, 'multimetric_': False, 'best_index_': 35, 'best_score_': 0.5651403225274544, 'best_params_': {'model__l1_ratio': 0.75, 'vect__max_features': 30000, 'vect__ngram_range': (1, 3)}, 'best_estimator_': Pipeline(memory=None,\n         steps=[('vect',\n                 CountVectorizer(analyzer='word', binary=False,\n                                 decode_error='strict',\n                                 dtype=<class 'numpy.int64'>, encoding='utf-8',\n                                 input='content', lowercase=True, max_df=0.7,\n                                 max_features=30000, min_df=0.0001,\n                                 ngram_range=(1, 3), preprocessor=None,\n                                 stop_words=['i', 'me', 'my', 'myself', 'we',\n                                             'our', 'ours', 'ourselves', 'you',\n                                             \"you're\", \"you've\", \"yo...\n                ('tftrans',\n                 TfidfTransformer(norm='l2', smooth_idf=True,\n                                  sublinear_tf=False, use_idf=True)),\n                ('model',\n                 LogisticRegression(C=1.0, class_weight=None, dual=False,\n                                    fit_intercept=True, intercept_scaling=1,\n                                    l1_ratio=0.75, max_iter=100,\n                                    multi_class='auto', n_jobs=None,\n                                    penalty='elasticnet', random_state=42,\n                                    solver='saga', tol=0.0001, verbose=0,\n                                    warm_start=False))],\n         verbose=False), 'refit_time_': 401.4118580818176, 'scorer_': make_scorer(accuracy_score), 'cv_results_': {'mean_fit_time': array([ 11.7056911 ,  26.33156848,  49.56791949,  11.7056936 ,\n        23.77041841,  41.45611715,  11.63288438,  26.12013662,\n        37.19551015, 108.391083  , 133.33287752, 145.50980163,\n       214.0265379 , 301.89964294, 311.92083764, 211.0604732 ,\n       451.40873587, 651.84076965, 280.8324101 , 131.3246156 ,\n       131.37760627, 185.98090744, 294.66213703, 307.2713114 ,\n       193.14913392, 253.82357919, 260.43341112,  88.28137136,\n       120.5899955 , 130.03224075, 153.81359136, 220.25287962,\n       227.12151241, 146.18250263, 222.99056101, 242.96663988,\n        52.06674993,  65.40957308,  75.89200795,  94.17859495,\n       204.60014808, 222.85013044, 103.52141666, 178.21060467,\n       189.81031466]), 'std_fit_time': array([9.57443714e-02, 7.77921677e-02, 2.24897861e-01, 2.06452489e-01,\n       1.09703302e-01, 3.28123569e-01, 1.99493170e-02, 6.28319979e-02,\n       2.49333382e-02, 8.44739676e-01, 2.10437524e+00, 1.42119765e+00,\n       8.49228668e+00, 4.85202241e+00, 4.44910049e+00, 5.65487242e+00,\n       1.56371769e+02, 1.37388371e+01, 1.41768831e+02, 1.74518168e+00,\n       1.63862288e+00, 2.54369593e+00, 5.77405620e+00, 3.67019296e-01,\n       5.33423328e+00, 5.53668082e+00, 5.17615795e-01, 4.44162011e+00,\n       1.11776024e+01, 6.81177986e+00, 1.11701846e-01, 1.75629997e+00,\n       7.35034227e-01, 1.60420978e+00, 1.12977819e+01, 3.48618400e+00,\n       1.88693988e+00, 2.08392715e+00, 1.97571433e+00, 8.20954216e+00,\n       6.07900178e+00, 6.70107591e+00, 7.37803388e+00, 2.55244398e+00,\n       1.74134803e+00]), 'mean_score_time': array([ 7.47899652, 12.75488341, 12.03580868,  7.20522475, 10.35929072,\n       12.36592972,  6.33555388,  9.62376392, 11.35861921,  7.79266822,\n        9.04131794, 11.93906593,  6.24679184,  9.47366059, 11.81390107,\n        7.80209363, 13.23960376, 18.17665601,  9.49360752,  9.57738483,\n       11.44388473, 14.20251143, 12.13255262, 12.92343283,  8.31725538,\n        9.83070803, 12.30957568,  9.24826336, 10.19074297, 12.61625731,\n        6.89306426, 11.34017181, 12.14302266,  6.91500545, 12.31755555,\n       12.7897923 ,  7.19675124, 10.73179531, 11.97546935,  6.51607502,\n       10.29050493, 12.96858478,  6.74695337, 10.37574792, 15.46463299]), 'std_score_time': array([0.43183923, 0.383973  , 0.07280481, 0.38946223, 0.0977391 ,\n       0.0189532 , 0.04338622, 0.04338992, 0.01595592, 0.03291214,\n       0.12815738, 0.30019808, 0.08427501, 0.22340333, 0.07330334,\n       1.48698962, 3.69114494, 4.66485715, 2.23203087, 0.48470342,\n       0.09325755, 0.90108931, 1.23070884, 0.23736668, 1.72688019,\n       0.04487777, 0.20295656, 1.47305942, 0.72306371, 0.30119288,\n       0.73553061, 2.27441216, 0.81831062, 0.33659935, 3.1430918 ,\n       1.37532067, 1.16388619, 0.43633151, 0.13114905, 0.03540623,\n       0.54703093, 0.37726355, 0.05285823, 0.46525574, 0.36503053]), 'param_model__l1_ratio': masked_array(data=[0.0, 0.0, 0.0, 0.0, 0.0, 0.0, 0.0, 0.0, 0.0, 0.25,\n                   0.25, 0.25, 0.25, 0.25, 0.25, 0.25, 0.25, 0.25, 0.5,\n                   0.5, 0.5, 0.5, 0.5, 0.5, 0.5, 0.5, 0.5, 0.75, 0.75,\n                   0.75, 0.75, 0.75, 0.75, 0.75, 0.75, 0.75, 1.0, 1.0,\n                   1.0, 1.0, 1.0, 1.0, 1.0, 1.0, 1.0],\n             mask=[False, False, False, False, False, False, False, False,\n                   False, False, False, False, False, False, False, False,\n                   False, False, False, False, False, False, False, False,\n                   False, False, False, False, False, False, False, False,\n                   False, False, False, False, False, False, False, False,\n                   False, False, False, False, False],\n       fill_value='?',\n            dtype=object), 'param_vect__max_features': masked_array(data=[5000, 5000, 5000, 15000, 15000, 15000, 30000, 30000,\n                   30000, 5000, 5000, 5000, 15000, 15000, 15000, 30000,\n                   30000, 30000, 5000, 5000, 5000, 15000, 15000, 15000,\n                   30000, 30000, 30000, 5000, 5000, 5000, 15000, 15000,\n                   15000, 30000, 30000, 30000, 5000, 5000, 5000, 15000,\n                   15000, 15000, 30000, 30000, 30000],\n             mask=[False, False, False, False, False, False, False, False,\n                   False, False, False, False, False, False, False, False,\n                   False, False, False, False, False, False, False, False,\n                   False, False, False, False, False, False, False, False,\n                   False, False, False, False, False, False, False, False,\n                   False, False, False, False, False],\n       fill_value='?',\n            dtype=object), 'param_vect__ngram_range': masked_array(data=[(1, 1), (1, 2), (1, 3), (1, 1), (1, 2), (1, 3), (1, 1),\n                   (1, 2), (1, 3), (1, 1), (1, 2), (1, 3), (1, 1), (1, 2),\n                   (1, 3), (1, 1), (1, 2), (1, 3), (1, 1), (1, 2), (1, 3),\n                   (1, 1), (1, 2), (1, 3), (1, 1), (1, 2), (1, 3), (1, 1),\n                   (1, 2), (1, 3), (1, 1), (1, 2), (1, 3), (1, 1), (1, 2),\n                   (1, 3), (1, 1), (1, 2), (1, 3), (1, 1), (1, 2), (1, 3),\n                   (1, 1), (1, 2), (1, 3)],\n             mask=[False, False, False, False, False, False, False, False,\n                   False, False, False, False, False, False, False, False,\n                   False, False, False, False, False, False, False, False,\n                   False, False, False, False, False, False, False, False,\n                   False, False, False, False, False, False, False, False,\n                   False, False, False, False, False],\n       fill_value='?',\n            dtype=object), 'params': [{'model__l1_ratio': 0.0, 'vect__max_features': 5000, 'vect__ngram_range': (1, 1)}, {'model__l1_ratio': 0.0, 'vect__max_features': 5000, 'vect__ngram_range': (1, 2)}, {'model__l1_ratio': 0.0, 'vect__max_features': 5000, 'vect__ngram_range': (1, 3)}, {'model__l1_ratio': 0.0, 'vect__max_features': 15000, 'vect__ngram_range': (1, 1)}, {'model__l1_ratio': 0.0, 'vect__max_features': 15000, 'vect__ngram_range': (1, 2)}, {'model__l1_ratio': 0.0, 'vect__max_features': 15000, 'vect__ngram_range': (1, 3)}, {'model__l1_ratio': 0.0, 'vect__max_features': 30000, 'vect__ngram_range': (1, 1)}, {'model__l1_ratio': 0.0, 'vect__max_features': 30000, 'vect__ngram_range': (1, 2)}, {'model__l1_ratio': 0.0, 'vect__max_features': 30000, 'vect__ngram_range': (1, 3)}, {'model__l1_ratio': 0.25, 'vect__max_features': 5000, 'vect__ngram_range': (1, 1)}, {'model__l1_ratio': 0.25, 'vect__max_features': 5000, 'vect__ngram_range': (1, 2)}, {'model__l1_ratio': 0.25, 'vect__max_features': 5000, 'vect__ngram_range': (1, 3)}, {'model__l1_ratio': 0.25, 'vect__max_features': 15000, 'vect__ngram_range': (1, 1)}, {'model__l1_ratio': 0.25, 'vect__max_features': 15000, 'vect__ngram_range': (1, 2)}, {'model__l1_ratio': 0.25, 'vect__max_features': 15000, 'vect__ngram_range': (1, 3)}, {'model__l1_ratio': 0.25, 'vect__max_features': 30000, 'vect__ngram_range': (1, 1)}, {'model__l1_ratio': 0.25, 'vect__max_features': 30000, 'vect__ngram_range': (1, 2)}, {'model__l1_ratio': 0.25, 'vect__max_features': 30000, 'vect__ngram_range': (1, 3)}, {'model__l1_ratio': 0.5, 'vect__max_features': 5000, 'vect__ngram_range': (1, 1)}, {'model__l1_ratio': 0.5, 'vect__max_features': 5000, 'vect__ngram_range': (1, 2)}, {'model__l1_ratio': 0.5, 'vect__max_features': 5000, 'vect__ngram_range': (1, 3)}, {'model__l1_ratio': 0.5, 'vect__max_features': 15000, 'vect__ngram_range': (1, 1)}, {'model__l1_ratio': 0.5, 'vect__max_features': 15000, 'vect__ngram_range': (1, 2)}, {'model__l1_ratio': 0.5, 'vect__max_features': 15000, 'vect__ngram_range': (1, 3)}, {'model__l1_ratio': 0.5, 'vect__max_features': 30000, 'vect__ngram_range': (1, 1)}, {'model__l1_ratio': 0.5, 'vect__max_features': 30000, 'vect__ngram_range': (1, 2)}, {'model__l1_ratio': 0.5, 'vect__max_features': 30000, 'vect__ngram_range': (1, 3)}, {'model__l1_ratio': 0.75, 'vect__max_features': 5000, 'vect__ngram_range': (1, 1)}, {'model__l1_ratio': 0.75, 'vect__max_features': 5000, 'vect__ngram_range': (1, 2)}, {'model__l1_ratio': 0.75, 'vect__max_features': 5000, 'vect__ngram_range': (1, 3)}, {'model__l1_ratio': 0.75, 'vect__max_features': 15000, 'vect__ngram_range': (1, 1)}, {'model__l1_ratio': 0.75, 'vect__max_features': 15000, 'vect__ngram_range': (1, 2)}, {'model__l1_ratio': 0.75, 'vect__max_features': 15000, 'vect__ngram_range': (1, 3)}, {'model__l1_ratio': 0.75, 'vect__max_features': 30000, 'vect__ngram_range': (1, 1)}, {'model__l1_ratio': 0.75, 'vect__max_features': 30000, 'vect__ngram_range': (1, 2)}, {'model__l1_ratio': 0.75, 'vect__max_features': 30000, 'vect__ngram_range': (1, 3)}, {'model__l1_ratio': 1.0, 'vect__max_features': 5000, 'vect__ngram_range': (1, 1)}, {'model__l1_ratio': 1.0, 'vect__max_features': 5000, 'vect__ngram_range': (1, 2)}, {'model__l1_ratio': 1.0, 'vect__max_features': 5000, 'vect__ngram_range': (1, 3)}, {'model__l1_ratio': 1.0, 'vect__max_features': 15000, 'vect__ngram_range': (1, 1)}, {'model__l1_ratio': 1.0, 'vect__max_features': 15000, 'vect__ngram_range': (1, 2)}, {'model__l1_ratio': 1.0, 'vect__max_features': 15000, 'vect__ngram_range': (1, 3)}, {'model__l1_ratio': 1.0, 'vect__max_features': 30000, 'vect__ngram_range': (1, 1)}, {'model__l1_ratio': 1.0, 'vect__max_features': 30000, 'vect__ngram_range': (1, 2)}, {'model__l1_ratio': 1.0, 'vect__max_features': 30000, 'vect__ngram_range': (1, 3)}], 'split0_test_score': array([0.56445602, 0.5636563 , 0.56375524, 0.56185898, 0.56126538,\n       0.56127362, 0.56185898, 0.56110873, 0.56113346, 0.56444778,\n       0.56373875, 0.56374699, 0.56374699, 0.56230419, 0.56218877,\n       0.56374699, 0.5621393 , 0.56215579, 0.5640438 , 0.56420044,\n       0.56391188, 0.56428289, 0.56392013, 0.56375524, 0.56428289,\n       0.56384593, 0.56379646, 0.5640438 , 0.56393662, 0.56377997,\n       0.56464565, 0.56459618, 0.56462916, 0.56464565, 0.56467863,\n       0.56484352, 0.56423342, 0.56401906, 0.5641922 , 0.56500841,\n       0.56438182, 0.56421693, 0.56500841, 0.56476932, 0.56469512]), 'split1_test_score': array([0.56240313, 0.5619909 , 0.56200739, 0.56224648, 0.56134782,\n       0.56127362, 0.56224648, 0.56155394, 0.56157867, 0.5628236 ,\n       0.56261749, 0.56264222, 0.56382119, 0.56295551, 0.56351614,\n       0.56382119, 0.56355737, 0.56360683, 0.56313689, 0.56356561,\n       0.56344194, 0.5643406 , 0.56446427, 0.56461267, 0.5643406 ,\n       0.56449725, 0.56434884, 0.56349141, 0.56357385, 0.56356561,\n       0.5650249 , 0.5650991 , 0.56486001, 0.5650249 , 0.56545362,\n       0.56543713, 0.56339247, 0.56371401, 0.56377997, 0.56446427,\n       0.56390364, 0.56392013, 0.56446427, 0.56425815, 0.56454671]), 'mean_test_score': array([0.56342957, 0.5628236 , 0.56288131, 0.56205273, 0.5613066 ,\n       0.56127362, 0.56205273, 0.56133133, 0.56135607, 0.56363569,\n       0.56317812, 0.5631946 , 0.56378409, 0.56262985, 0.56285246,\n       0.56378409, 0.56284833, 0.56288131, 0.56359034, 0.56388303,\n       0.56367691, 0.56431174, 0.5641922 , 0.56418395, 0.56431174,\n       0.56417159, 0.56407265, 0.5637676 , 0.56375524, 0.56367279,\n       0.56483527, 0.56484764, 0.56474458, 0.56483527, 0.56506612,\n       0.56514032, 0.56381295, 0.56386654, 0.56398608, 0.56473634,\n       0.56414273, 0.56406853, 0.56473634, 0.56451374, 0.56462091]), 'std_test_score': array([1.02644857e-03, 8.32701250e-04, 8.73924084e-04, 1.93747321e-04,\n       4.12228342e-05, 0.00000000e+00, 1.93747321e-04, 2.22603304e-04,\n       2.22603304e-04, 8.12089833e-04, 5.60630544e-04, 5.52385978e-04,\n       3.71005507e-05, 3.25660390e-04, 6.63687630e-04, 3.71005507e-05,\n       7.09032747e-04, 7.25521881e-04, 4.53451176e-04, 3.17415823e-04,\n       2.34970155e-04, 2.88559839e-05, 2.72070705e-04, 4.28717475e-04,\n       2.88559839e-05, 3.25660390e-04, 2.76192989e-04, 2.76192989e-04,\n       1.81380470e-04, 1.07179369e-04, 1.89625037e-04, 2.51459288e-04,\n       1.15423936e-04, 1.89625037e-04, 3.87494641e-04, 2.96804406e-04,\n       4.20472908e-04, 1.52524486e-04, 2.06114171e-04, 2.72070705e-04,\n       2.39092438e-04, 1.48402203e-04, 2.72070705e-04, 2.55581572e-04,\n       7.42011015e-05]), 'rank_test_score': array([31, 38, 34, 40, 44, 45, 40, 43, 42, 29, 33, 32, 23, 39, 36, 23, 37,\n       34, 30, 20, 27, 11, 13, 14, 11, 15, 17, 25, 26, 28,  4,  3,  6,  4,\n        2,  1, 22, 21, 19,  7, 16, 18,  7, 10,  9])}, 'n_splits_': 2}\n"
                }
            ],
            "execution_count": 37
        },
        {
            "cell_type": "markdown",
            "source": [
                "### Naive Bayes"
            ],
            "metadata": {
                "azdata_cell_guid": "2c66b076-db3f-421d-935f-31c9e23af1cd"
            }
        },
        {
            "cell_type": "code",
            "source": [
                "from sklearn.naive_bayes import MultinomialNB\r\n",
                "\r\n",
                "#token_count_matrix = CountVectorizer(strip_accents='unicode', stop_words = stop_words_en, min_df = 0.0001, max_df = 0.70)\r\n",
                "tf_trans = TfidfTransformer()\r\n",
                "\r\n",
                "# instantiate the Naive Bayes model\r\n",
                "nb_model = MultinomialNB()\r\n",
                "\r\n",
                "# instantiate Pipeline for model \r\n",
                "model = Pipeline([\r\n",
                "    ('vect', token_count_matrix),\r\n",
                "    ('tftrans', tfidf_trans_normalized),\r\n",
                "    ('model', nb_model)\r\n",
                "])\r\n",
                "\r\n",
                "# instantiate dictionary with parameters\r\n",
                "param_grid = {\r\n",
                "    'vect__ngram_range': [(1, 1), (1, 2), (1, 3)],\r\n",
                "    'vect__max_features': (5000, 15000, 30000)\r\n",
                "}\r\n",
                "\r\n",
                "# instantiate a GridSearchCV object\r\n",
                "grid_nb = GridSearchCV(estimator = model, param_grid = param_grid, scoring = \"accuracy\", cv = 2, n_jobs =- 1)"
            ],
            "metadata": {
                "azdata_cell_guid": "d2d06c38-bab8-4bdd-95ee-f897d1454e21"
            },
            "outputs": [],
            "execution_count": 38
        },
        {
            "cell_type": "code",
            "source": [
                "%%time\r\n",
                "grid_nb.fit(train_comments_slim, train_label_slim)"
            ],
            "metadata": {
                "azdata_cell_guid": "7c3efbe9-c071-4a4c-84d5-37ad9c1f9dee"
            },
            "outputs": [
                {
                    "output_type": "stream",
                    "name": "stdout",
                    "text": "Wall time: 3min 4s\n"
                },
                {
                    "output_type": "execute_result",
                    "execution_count": 40,
                    "data": {
                        "text/plain": "GridSearchCV(cv=2, error_score=nan,\n             estimator=Pipeline(memory=None,\n                                steps=[('vect',\n                                        CountVectorizer(analyzer='word',\n                                                        binary=False,\n                                                        decode_error='strict',\n                                                        dtype=<class 'numpy.int64'>,\n                                                        encoding='utf-8',\n                                                        input='content',\n                                                        lowercase=True,\n                                                        max_df=0.7,\n                                                        max_features=None,\n                                                        min_df=0.0001,\n                                                        ngram_range=(1, 1),\n                                                        preprocessor=None,\n                                                        stop_words=['i', 'me',\n                                                                    'my',\n                                                                    'myself',\n                                                                    'we', 'our',\n                                                                    'ou...\n                                        TfidfTransformer(norm='l2',\n                                                         smooth_idf=True,\n                                                         sublinear_tf=False,\n                                                         use_idf=True)),\n                                       ('model',\n                                        MultinomialNB(alpha=1.0,\n                                                      class_prior=None,\n                                                      fit_prior=True))],\n                                verbose=False),\n             iid='deprecated', n_jobs=-1,\n             param_grid={'vect__max_features': (5000, 15000, 30000),\n                         'vect__ngram_range': [(1, 1), (1, 2), (1, 3)]},\n             pre_dispatch='2*n_jobs', refit=True, return_train_score=False,\n             scoring='accuracy', verbose=0)"
                    },
                    "metadata": {}
                }
            ],
            "execution_count": 40
        },
        {
            "cell_type": "code",
            "source": [
                "grid_nb_cv_results = pd.DataFrame(grid_nb.cv_results_)\r\n",
                "grid_nb_cv_results"
            ],
            "metadata": {
                "azdata_cell_guid": "cba64e13-56e7-4e2d-88d9-b007075cae18"
            },
            "outputs": [
                {
                    "output_type": "execute_result",
                    "execution_count": 41,
                    "data": {
                        "text/plain": "   mean_fit_time  std_fit_time  mean_score_time  std_score_time  \\\n0       8.193583      0.013461         6.775878        0.012968   \n1      22.308830      0.054355        11.261382        0.029420   \n2      42.721730      0.020942        20.620348        0.187997   \n3       8.488795      0.138130         8.186106        0.185503   \n4      34.345136      0.246341        12.336506        0.147108   \n5      43.513611      0.645275        13.374230        0.006982   \n6       7.847505      0.001489         6.960382        0.118684   \n7      22.756632      0.252825         9.893038        0.083278   \n8      27.122954      0.042387         8.121280        0.034904   \n\n  param_vect__max_features param_vect__ngram_range  \\\n0                     5000                  (1, 1)   \n1                     5000                  (1, 2)   \n2                     5000                  (1, 3)   \n3                    15000                  (1, 1)   \n4                    15000                  (1, 2)   \n5                    15000                  (1, 3)   \n6                    30000                  (1, 1)   \n7                    30000                  (1, 2)   \n8                    30000                  (1, 3)   \n\n                                              params  split0_test_score  \\\n0  {'vect__max_features': 5000, 'vect__ngram_rang...           0.568430   \n1  {'vect__max_features': 5000, 'vect__ngram_rang...           0.567449   \n2  {'vect__max_features': 5000, 'vect__ngram_rang...           0.567457   \n3  {'vect__max_features': 15000, 'vect__ngram_ran...           0.568125   \n4  {'vect__max_features': 15000, 'vect__ngram_ran...           0.567704   \n5  {'vect__max_features': 15000, 'vect__ngram_ran...           0.567894   \n6  {'vect__max_features': 30000, 'vect__ngram_ran...           0.568125   \n7  {'vect__max_features': 30000, 'vect__ngram_ran...           0.567968   \n8  {'vect__max_features': 30000, 'vect__ngram_ran...           0.568092   \n\n   split1_test_score  mean_test_score  std_test_score  rank_test_score  \n0           0.566929         0.567680        0.000750                1  \n1           0.566732         0.567090        0.000359                7  \n2           0.566756         0.567107        0.000350                6  \n3           0.566987         0.567556        0.000569                2  \n4           0.566229         0.566966        0.000738                9  \n5           0.566657         0.567276        0.000618                4  \n6           0.566987         0.567556        0.000569                2  \n7           0.566179         0.567074        0.000895                8  \n8           0.566402         0.567247        0.000845                5  ",
                        "text/html": "<div>\n<style scoped>\n    .dataframe tbody tr th:only-of-type {\n        vertical-align: middle;\n    }\n\n    .dataframe tbody tr th {\n        vertical-align: top;\n    }\n\n    .dataframe thead th {\n        text-align: right;\n    }\n</style>\n<table border=\"1\" class=\"dataframe\">\n  <thead>\n    <tr style=\"text-align: right;\">\n      <th></th>\n      <th>mean_fit_time</th>\n      <th>std_fit_time</th>\n      <th>mean_score_time</th>\n      <th>std_score_time</th>\n      <th>param_vect__max_features</th>\n      <th>param_vect__ngram_range</th>\n      <th>params</th>\n      <th>split0_test_score</th>\n      <th>split1_test_score</th>\n      <th>mean_test_score</th>\n      <th>std_test_score</th>\n      <th>rank_test_score</th>\n    </tr>\n  </thead>\n  <tbody>\n    <tr>\n      <th>0</th>\n      <td>8.193583</td>\n      <td>0.013461</td>\n      <td>6.775878</td>\n      <td>0.012968</td>\n      <td>5000</td>\n      <td>(1, 1)</td>\n      <td>{'vect__max_features': 5000, 'vect__ngram_rang...</td>\n      <td>0.568430</td>\n      <td>0.566929</td>\n      <td>0.567680</td>\n      <td>0.000750</td>\n      <td>1</td>\n    </tr>\n    <tr>\n      <th>1</th>\n      <td>22.308830</td>\n      <td>0.054355</td>\n      <td>11.261382</td>\n      <td>0.029420</td>\n      <td>5000</td>\n      <td>(1, 2)</td>\n      <td>{'vect__max_features': 5000, 'vect__ngram_rang...</td>\n      <td>0.567449</td>\n      <td>0.566732</td>\n      <td>0.567090</td>\n      <td>0.000359</td>\n      <td>7</td>\n    </tr>\n    <tr>\n      <th>2</th>\n      <td>42.721730</td>\n      <td>0.020942</td>\n      <td>20.620348</td>\n      <td>0.187997</td>\n      <td>5000</td>\n      <td>(1, 3)</td>\n      <td>{'vect__max_features': 5000, 'vect__ngram_rang...</td>\n      <td>0.567457</td>\n      <td>0.566756</td>\n      <td>0.567107</td>\n      <td>0.000350</td>\n      <td>6</td>\n    </tr>\n    <tr>\n      <th>3</th>\n      <td>8.488795</td>\n      <td>0.138130</td>\n      <td>8.186106</td>\n      <td>0.185503</td>\n      <td>15000</td>\n      <td>(1, 1)</td>\n      <td>{'vect__max_features': 15000, 'vect__ngram_ran...</td>\n      <td>0.568125</td>\n      <td>0.566987</td>\n      <td>0.567556</td>\n      <td>0.000569</td>\n      <td>2</td>\n    </tr>\n    <tr>\n      <th>4</th>\n      <td>34.345136</td>\n      <td>0.246341</td>\n      <td>12.336506</td>\n      <td>0.147108</td>\n      <td>15000</td>\n      <td>(1, 2)</td>\n      <td>{'vect__max_features': 15000, 'vect__ngram_ran...</td>\n      <td>0.567704</td>\n      <td>0.566229</td>\n      <td>0.566966</td>\n      <td>0.000738</td>\n      <td>9</td>\n    </tr>\n    <tr>\n      <th>5</th>\n      <td>43.513611</td>\n      <td>0.645275</td>\n      <td>13.374230</td>\n      <td>0.006982</td>\n      <td>15000</td>\n      <td>(1, 3)</td>\n      <td>{'vect__max_features': 15000, 'vect__ngram_ran...</td>\n      <td>0.567894</td>\n      <td>0.566657</td>\n      <td>0.567276</td>\n      <td>0.000618</td>\n      <td>4</td>\n    </tr>\n    <tr>\n      <th>6</th>\n      <td>7.847505</td>\n      <td>0.001489</td>\n      <td>6.960382</td>\n      <td>0.118684</td>\n      <td>30000</td>\n      <td>(1, 1)</td>\n      <td>{'vect__max_features': 30000, 'vect__ngram_ran...</td>\n      <td>0.568125</td>\n      <td>0.566987</td>\n      <td>0.567556</td>\n      <td>0.000569</td>\n      <td>2</td>\n    </tr>\n    <tr>\n      <th>7</th>\n      <td>22.756632</td>\n      <td>0.252825</td>\n      <td>9.893038</td>\n      <td>0.083278</td>\n      <td>30000</td>\n      <td>(1, 2)</td>\n      <td>{'vect__max_features': 30000, 'vect__ngram_ran...</td>\n      <td>0.567968</td>\n      <td>0.566179</td>\n      <td>0.567074</td>\n      <td>0.000895</td>\n      <td>8</td>\n    </tr>\n    <tr>\n      <th>8</th>\n      <td>27.122954</td>\n      <td>0.042387</td>\n      <td>8.121280</td>\n      <td>0.034904</td>\n      <td>30000</td>\n      <td>(1, 3)</td>\n      <td>{'vect__max_features': 30000, 'vect__ngram_ran...</td>\n      <td>0.568092</td>\n      <td>0.566402</td>\n      <td>0.567247</td>\n      <td>0.000845</td>\n      <td>5</td>\n    </tr>\n  </tbody>\n</table>\n</div>"
                    },
                    "metadata": {}
                }
            ],
            "execution_count": 41
        },
        {
            "cell_type": "code",
            "source": [
                "print(f'Naive Bayes predictor best score is : {grid_nb.best_score_}')\r\n",
                "for param_name in sorted(param_grid.keys()):\r\n",
                "    print(\"%s: %r\" % (param_name, grid_nb.best_params_[param_name]))"
            ],
            "metadata": {
                "azdata_cell_guid": "f7944e6b-0abd-46d4-bc80-96806958f852"
            },
            "outputs": [
                {
                    "output_type": "stream",
                    "name": "stdout",
                    "text": "Naive Bayes predictor best score is : 0.5676796491112357\nvect__max_features: 5000\nvect__ngram_range: (1, 1)\n"
                }
            ],
            "execution_count": 42
        },
        {
            "cell_type": "code",
            "source": [
                "from sklearn.metrics import confusion_matrix, accuracy_score\r\n",
                "import seaborn as sns\r\n",
                "import matplotlib.pyplot as plt\r\n",
                "\r\n",
                "# print accuracy score\r\n",
                "predictions = grid_nb.predict(test_comment_slim) #FIXME\r\n",
                "print('Accuracy Score: {:.2%}'.format(accuracy_score(test_label_slim, predictions)),'\\n') #FIXME\r\n",
                "\r\n",
                "# confusion matrix\r\n",
                "cm = pd.DataFrame(confusion_matrix(test_label_slim, predictions), #FIXME \r\n",
                "                    index = ['NOT SARCASTIC', 'SARCASTIC'],\r\n",
                "                    columns=['NOT SARCASTIC', 'SARCASTIC'])\r\n",
                "\r\n",
                "fig = plt.figure(figsize = (8, 6))\r\n",
                "ax = sns.heatmap(cm, annot = True,\r\n",
                "                    cbar = False, \r\n",
                "                    cmap = 'Blues',\r\n",
                "                    linewidths = 0.5,\r\n",
                "                    fmt = '.0f')\r\n",
                "ax.set_title('Naive Bayes Confusion Matrix',\r\n",
                "                fontsize = 16,\r\n",
                "                y = 1.25)\r\n",
                "ax.set_ylabel('actual', fontsize = 14)\r\n",
                "ax.set_xlabel('prediction', fontsize = 14)\r\n",
                "ax.xaxis.set_ticks_position('top')\r\n",
                "ax.xaxis.set_label_position('top')\r\n",
                "ax.tick_params(labelsize = 12)"
            ],
            "metadata": {
                "azdata_cell_guid": "ff478df3-a483-4a5d-98fe-2c7440cb6453"
            },
            "outputs": [
                {
                    "output_type": "stream",
                    "name": "stdout",
                    "text": "Accuracy Score: 57.51% \n\n"
                },
                {
                    "output_type": "display_data",
                    "data": {
                        "text/plain": "<Figure size 576x432 with 1 Axes>",
                        "image/png": "[encoded data removed]"
                    },
                    "metadata": {
                        "needs_background": "light"
                    }
                }
            ],
            "execution_count": 46
        },
        {
            "cell_type": "markdown",
            "source": [
                "train Naive Bayes with comments and subreddit"
            ],
            "metadata": {
                "azdata_cell_guid": "9cd44016-993f-4ffd-b00e-141ebcf53146"
            }
        },
        {
            "cell_type": "code",
            "source": [
                "print(train_comments_and_subreddits_slim.shape)\r\n",
                "print(train_label_slim.shape)"
            ],
            "metadata": {
                "azdata_cell_guid": "eda0aeb9-350b-4152-8511-95e72662272b"
            },
            "outputs": [
                {
                    "output_type": "stream",
                    "name": "stdout",
                    "text": "(242584, 2)\n(242584,)\n"
                }
            ],
            "execution_count": 49
        },
        {
            "cell_type": "code",
            "source": [
                "%%time\r\n",
                "\r\n",
                "#TODO\r\n",
                "\r\n",
                "token_count_matrix = CountVectorizer(   strip_accents = 'unicode', \r\n",
                "                                        stop_words = stop_words_en, \r\n",
                "                                        min_df = 0.0001, \r\n",
                "                                        max_df = 0.70)\r\n",
                "\r\n",
                "train_bow = token_count_matrix.fit_transform(train_comments_and_subreddits_slim)\r\n",
                "\r\n",
                "tfidf_trans_normalized = TfidfTransformer()\r\n",
                "train_tfidf = tfidf_trans_normalized.fit_transform(train_bow)\r\n",
                "\r\n",
                "########################################################################################\r\n",
                "from sklearn.naive_bayes import MultinomialNB\r\n",
                "\r\n",
                "tf_trans = TfidfTransformer()\r\n",
                "\r\n",
                "# instantiate the Naive Bayes model\r\n",
                "nb_model = MultinomialNB()\r\n",
                "\r\n",
                "# instantiate Pipeline for model \r\n",
                "model = Pipeline([\r\n",
                "    ('vect', token_count_matrix),\r\n",
                "    ('tftrans', tfidf_trans_normalized),\r\n",
                "    ('model', nb_model)\r\n",
                "])\r\n",
                "\r\n",
                "# instantiate dictionary with parameters\r\n",
                "param_grid = {\r\n",
                "    'vect__ngram_range': [(1, 1), (1, 2), (1, 3)],\r\n",
                "    'vect__max_features': (5000, 15000, 30000)\r\n",
                "}\r\n",
                "\r\n",
                "# instantiate a GridSearchCV object\r\n",
                "grid_nb = GridSearchCV(estimator = model, \r\n",
                "                        param_grid = param_grid, \r\n",
                "                        scoring = \"accuracy\", \r\n",
                "                        cv = 2, \r\n",
                "                        n_jobs =- 1)\r\n",
                "\r\n",
                "########################################################################################\r\n",
                "grid_nb.fit(train_comments_and_subreddits_slim, train_label_slim)"
            ],
            "metadata": {
                "azdata_cell_guid": "65ca57fc-bc65-4162-840a-572d41c808d5"
            },
            "outputs": [
                {
                    "output_type": "error",
                    "ename": "ValueError",
                    "evalue": "Found input variables with inconsistent numbers of samples: [2, 242584]",
                    "traceback": [
                        "\u001b[1;31m---------------------------------------------------------------------------\u001b[0m",
                        "\u001b[1;31mValueError\u001b[0m                                Traceback (most recent call last)",
                        "\u001b[1;32m<timed exec>\u001b[0m in \u001b[0;36m<module>\u001b[1;34m\u001b[0m\n",
                        "\u001b[1;32m~\\anaconda3\\lib\\site-packages\\sklearn\\model_selection\\_search.py\u001b[0m in \u001b[0;36mfit\u001b[1;34m(self, X, y, groups, **fit_params)\u001b[0m\n\u001b[0;32m    737\u001b[0m             \u001b[0mrefit_start_time\u001b[0m \u001b[1;33m=\u001b[0m \u001b[0mtime\u001b[0m\u001b[1;33m.\u001b[0m\u001b[0mtime\u001b[0m\u001b[1;33m(\u001b[0m\u001b[1;33m)\u001b[0m\u001b[1;33m\u001b[0m\u001b[1;33m\u001b[0m\u001b[0m\n\u001b[0;32m    738\u001b[0m             \u001b[1;32mif\u001b[0m \u001b[0my\u001b[0m \u001b[1;32mis\u001b[0m \u001b[1;32mnot\u001b[0m \u001b[1;32mNone\u001b[0m\u001b[1;33m:\u001b[0m\u001b[1;33m\u001b[0m\u001b[1;33m\u001b[0m\u001b[0m\n\u001b[1;32m--> 739\u001b[1;33m                 \u001b[0mself\u001b[0m\u001b[1;33m.\u001b[0m\u001b[0mbest_estimator_\u001b[0m\u001b[1;33m.\u001b[0m\u001b[0mfit\u001b[0m\u001b[1;33m(\u001b[0m\u001b[0mX\u001b[0m\u001b[1;33m,\u001b[0m \u001b[0my\u001b[0m\u001b[1;33m,\u001b[0m \u001b[1;33m**\u001b[0m\u001b[0mfit_params\u001b[0m\u001b[1;33m)\u001b[0m\u001b[1;33m\u001b[0m\u001b[1;33m\u001b[0m\u001b[0m\n\u001b[0m\u001b[0;32m    740\u001b[0m             \u001b[1;32melse\u001b[0m\u001b[1;33m:\u001b[0m\u001b[1;33m\u001b[0m\u001b[1;33m\u001b[0m\u001b[0m\n\u001b[0;32m    741\u001b[0m                 \u001b[0mself\u001b[0m\u001b[1;33m.\u001b[0m\u001b[0mbest_estimator_\u001b[0m\u001b[1;33m.\u001b[0m\u001b[0mfit\u001b[0m\u001b[1;33m(\u001b[0m\u001b[0mX\u001b[0m\u001b[1;33m,\u001b[0m \u001b[1;33m**\u001b[0m\u001b[0mfit_params\u001b[0m\u001b[1;33m)\u001b[0m\u001b[1;33m\u001b[0m\u001b[1;33m\u001b[0m\u001b[0m\n",
                        "\u001b[1;32m~\\anaconda3\\lib\\site-packages\\sklearn\\pipeline.py\u001b[0m in \u001b[0;36mfit\u001b[1;34m(self, X, y, **fit_params)\u001b[0m\n\u001b[0;32m    352\u001b[0m                                  self._log_message(len(self.steps) - 1)):\n\u001b[0;32m    353\u001b[0m             \u001b[1;32mif\u001b[0m \u001b[0mself\u001b[0m\u001b[1;33m.\u001b[0m\u001b[0m_final_estimator\u001b[0m \u001b[1;33m!=\u001b[0m \u001b[1;34m'passthrough'\u001b[0m\u001b[1;33m:\u001b[0m\u001b[1;33m\u001b[0m\u001b[1;33m\u001b[0m\u001b[0m\n\u001b[1;32m--> 354\u001b[1;33m                 \u001b[0mself\u001b[0m\u001b[1;33m.\u001b[0m\u001b[0m_final_estimator\u001b[0m\u001b[1;33m.\u001b[0m\u001b[0mfit\u001b[0m\u001b[1;33m(\u001b[0m\u001b[0mXt\u001b[0m\u001b[1;33m,\u001b[0m \u001b[0my\u001b[0m\u001b[1;33m,\u001b[0m \u001b[1;33m**\u001b[0m\u001b[0mfit_params\u001b[0m\u001b[1;33m)\u001b[0m\u001b[1;33m\u001b[0m\u001b[1;33m\u001b[0m\u001b[0m\n\u001b[0m\u001b[0;32m    355\u001b[0m         \u001b[1;32mreturn\u001b[0m \u001b[0mself\u001b[0m\u001b[1;33m\u001b[0m\u001b[1;33m\u001b[0m\u001b[0m\n\u001b[0;32m    356\u001b[0m \u001b[1;33m\u001b[0m\u001b[0m\n",
                        "\u001b[1;32m~\\anaconda3\\lib\\site-packages\\sklearn\\naive_bayes.py\u001b[0m in \u001b[0;36mfit\u001b[1;34m(self, X, y, sample_weight)\u001b[0m\n\u001b[0;32m    607\u001b[0m         \u001b[0mself\u001b[0m \u001b[1;33m:\u001b[0m \u001b[0mobject\u001b[0m\u001b[1;33m\u001b[0m\u001b[1;33m\u001b[0m\u001b[0m\n\u001b[0;32m    608\u001b[0m         \"\"\"\n\u001b[1;32m--> 609\u001b[1;33m         \u001b[0mX\u001b[0m\u001b[1;33m,\u001b[0m \u001b[0my\u001b[0m \u001b[1;33m=\u001b[0m \u001b[0mself\u001b[0m\u001b[1;33m.\u001b[0m\u001b[0m_check_X_y\u001b[0m\u001b[1;33m(\u001b[0m\u001b[0mX\u001b[0m\u001b[1;33m,\u001b[0m \u001b[0my\u001b[0m\u001b[1;33m)\u001b[0m\u001b[1;33m\u001b[0m\u001b[1;33m\u001b[0m\u001b[0m\n\u001b[0m\u001b[0;32m    610\u001b[0m         \u001b[0m_\u001b[0m\u001b[1;33m,\u001b[0m \u001b[0mn_features\u001b[0m \u001b[1;33m=\u001b[0m \u001b[0mX\u001b[0m\u001b[1;33m.\u001b[0m\u001b[0mshape\u001b[0m\u001b[1;33m\u001b[0m\u001b[1;33m\u001b[0m\u001b[0m\n\u001b[0;32m    611\u001b[0m         \u001b[0mself\u001b[0m\u001b[1;33m.\u001b[0m\u001b[0mn_features_\u001b[0m \u001b[1;33m=\u001b[0m \u001b[0mn_features\u001b[0m\u001b[1;33m\u001b[0m\u001b[1;33m\u001b[0m\u001b[0m\n",
                        "\u001b[1;32m~\\anaconda3\\lib\\site-packages\\sklearn\\naive_bayes.py\u001b[0m in \u001b[0;36m_check_X_y\u001b[1;34m(self, X, y)\u001b[0m\n\u001b[0;32m    473\u001b[0m \u001b[1;33m\u001b[0m\u001b[0m\n\u001b[0;32m    474\u001b[0m     \u001b[1;32mdef\u001b[0m \u001b[0m_check_X_y\u001b[0m\u001b[1;33m(\u001b[0m\u001b[0mself\u001b[0m\u001b[1;33m,\u001b[0m \u001b[0mX\u001b[0m\u001b[1;33m,\u001b[0m \u001b[0my\u001b[0m\u001b[1;33m)\u001b[0m\u001b[1;33m:\u001b[0m\u001b[1;33m\u001b[0m\u001b[1;33m\u001b[0m\u001b[0m\n\u001b[1;32m--> 475\u001b[1;33m         \u001b[1;32mreturn\u001b[0m \u001b[0mcheck_X_y\u001b[0m\u001b[1;33m(\u001b[0m\u001b[0mX\u001b[0m\u001b[1;33m,\u001b[0m \u001b[0my\u001b[0m\u001b[1;33m,\u001b[0m \u001b[0maccept_sparse\u001b[0m\u001b[1;33m=\u001b[0m\u001b[1;34m'csr'\u001b[0m\u001b[1;33m)\u001b[0m\u001b[1;33m\u001b[0m\u001b[1;33m\u001b[0m\u001b[0m\n\u001b[0m\u001b[0;32m    476\u001b[0m \u001b[1;33m\u001b[0m\u001b[0m\n\u001b[0;32m    477\u001b[0m     \u001b[1;32mdef\u001b[0m \u001b[0m_update_class_log_prior\u001b[0m\u001b[1;33m(\u001b[0m\u001b[0mself\u001b[0m\u001b[1;33m,\u001b[0m \u001b[0mclass_prior\u001b[0m\u001b[1;33m=\u001b[0m\u001b[1;32mNone\u001b[0m\u001b[1;33m)\u001b[0m\u001b[1;33m:\u001b[0m\u001b[1;33m\u001b[0m\u001b[1;33m\u001b[0m\u001b[0m\n",
                        "\u001b[1;32m~\\anaconda3\\lib\\site-packages\\sklearn\\utils\\validation.py\u001b[0m in \u001b[0;36mcheck_X_y\u001b[1;34m(X, y, accept_sparse, accept_large_sparse, dtype, order, copy, force_all_finite, ensure_2d, allow_nd, multi_output, ensure_min_samples, ensure_min_features, y_numeric, warn_on_dtype, estimator)\u001b[0m\n\u001b[0;32m    763\u001b[0m         \u001b[0my\u001b[0m \u001b[1;33m=\u001b[0m \u001b[0my\u001b[0m\u001b[1;33m.\u001b[0m\u001b[0mastype\u001b[0m\u001b[1;33m(\u001b[0m\u001b[0mnp\u001b[0m\u001b[1;33m.\u001b[0m\u001b[0mfloat64\u001b[0m\u001b[1;33m)\u001b[0m\u001b[1;33m\u001b[0m\u001b[1;33m\u001b[0m\u001b[0m\n\u001b[0;32m    764\u001b[0m \u001b[1;33m\u001b[0m\u001b[0m\n\u001b[1;32m--> 765\u001b[1;33m     \u001b[0mcheck_consistent_length\u001b[0m\u001b[1;33m(\u001b[0m\u001b[0mX\u001b[0m\u001b[1;33m,\u001b[0m \u001b[0my\u001b[0m\u001b[1;33m)\u001b[0m\u001b[1;33m\u001b[0m\u001b[1;33m\u001b[0m\u001b[0m\n\u001b[0m\u001b[0;32m    766\u001b[0m \u001b[1;33m\u001b[0m\u001b[0m\n\u001b[0;32m    767\u001b[0m     \u001b[1;32mreturn\u001b[0m \u001b[0mX\u001b[0m\u001b[1;33m,\u001b[0m \u001b[0my\u001b[0m\u001b[1;33m\u001b[0m\u001b[1;33m\u001b[0m\u001b[0m\n",
                        "\u001b[1;32m~\\anaconda3\\lib\\site-packages\\sklearn\\utils\\validation.py\u001b[0m in \u001b[0;36mcheck_consistent_length\u001b[1;34m(*arrays)\u001b[0m\n\u001b[0;32m    210\u001b[0m     \u001b[1;32mif\u001b[0m \u001b[0mlen\u001b[0m\u001b[1;33m(\u001b[0m\u001b[0muniques\u001b[0m\u001b[1;33m)\u001b[0m \u001b[1;33m>\u001b[0m \u001b[1;36m1\u001b[0m\u001b[1;33m:\u001b[0m\u001b[1;33m\u001b[0m\u001b[1;33m\u001b[0m\u001b[0m\n\u001b[0;32m    211\u001b[0m         raise ValueError(\"Found input variables with inconsistent numbers of\"\n\u001b[1;32m--> 212\u001b[1;33m                          \" samples: %r\" % [int(l) for l in lengths])\n\u001b[0m\u001b[0;32m    213\u001b[0m \u001b[1;33m\u001b[0m\u001b[0m\n\u001b[0;32m    214\u001b[0m \u001b[1;33m\u001b[0m\u001b[0m\n",
                        "\u001b[1;31mValueError\u001b[0m: Found input variables with inconsistent numbers of samples: [2, 242584]"
                    ]
                }
            ],
            "execution_count": 53
        },
        {
            "cell_type": "markdown",
            "source": [
                "### Support Vector Machine"
            ],
            "metadata": {
                "azdata_cell_guid": "a35f0f0e-7b8b-4ffd-8943-7a18923fe642"
            }
        },
        {
            "cell_type": "code",
            "source": [
                "from sklearn.linear_model import SGDClassifier\r\n",
                "\r\n",
                "svm_model = SGDClassifier(  penalty = \"elasticnet\", \r\n",
                "                            random_state = 42, \r\n",
                "                            n_jobs =- 1)\r\n",
                "\r\n",
                "model = Pipeline([\r\n",
                "    ('vect', token_count_matrix),\r\n",
                "    ('tftrans', tfidf_trans_normalized),\r\n",
                "    ('model', svm_model)\r\n",
                "])\r\n",
                "\r\n",
                "param_grid = {\r\n",
                "    'vect__ngram_range': [(1, 1), (1, 2), (1, 3)],\r\n",
                "    'vect__max_features': (5000, 15000, 30000),\r\n",
                "    'model__l1_ratio': (0.0, 0.15, 0.40, 0.60, 0.85, 1.0)\r\n",
                "}\r\n",
                "\r\n",
                "grid_svm = GridSearchCV(estimator = model, param_grid = param_grid, scoring = \"accuracy\", cv = 2, n_jobs =- 1)"
            ],
            "metadata": {
                "azdata_cell_guid": "86f105cf-b2c7-4e72-9bb3-b085e7b29e4f"
            },
            "outputs": [],
            "execution_count": 37
        },
        {
            "cell_type": "code",
            "source": [
                "%%time\r\n",
                "grid_svm.fit(train_comments_slim, train_label_slim)"
            ],
            "metadata": {
                "azdata_cell_guid": "fd0df449-a6aa-4583-9ffb-17a1666f5c13"
            },
            "outputs": [
                {
                    "output_type": "stream",
                    "name": "stdout",
                    "text": "Wall time: 16min 30s\n"
                },
                {
                    "output_type": "execute_result",
                    "execution_count": 21,
                    "data": {
                        "text/plain": "GridSearchCV(cv=2, error_score=nan,\n             estimator=Pipeline(memory=None,\n                                steps=[('vect',\n                                        CountVectorizer(analyzer='word',\n                                                        binary=False,\n                                                        decode_error='strict',\n                                                        dtype=<class 'numpy.int64'>,\n                                                        encoding='utf-8',\n                                                        input='content',\n                                                        lowercase=True,\n                                                        max_df=0.7,\n                                                        max_features=None,\n                                                        min_df=0.0001,\n                                                        ngram_range=(1, 1),\n                                                        preprocessor=None,\n                                                        stop_words=['i', 'me',\n                                                                    'my',\n                                                                    'myself',\n                                                                    'we', 'our',\n                                                                    'ou...\n                                                      random_state=42,\n                                                      shuffle=True, tol=0.001,\n                                                      validation_fraction=0.1,\n                                                      verbose=0,\n                                                      warm_start=False))],\n                                verbose=False),\n             iid='deprecated', n_jobs=-1,\n             param_grid={'model__l1_ratio': (0.0, 0.15, 0.4, 0.6, 0.85, 1.0),\n                         'vect__max_features': (5000, 15000, 30000),\n                         'vect__ngram_range': [(1, 1), (1, 2), (1, 3)]},\n             pre_dispatch='2*n_jobs', refit=True, return_train_score=False,\n             scoring='accuracy', verbose=0)"
                    },
                    "metadata": {}
                }
            ],
            "execution_count": 21
        },
        {
            "cell_type": "code",
            "source": [
                "print(f'Support Vector Machines predictor best score is : {grid_svm.best_score_}')\r\n",
                "for param_name in sorted(param_grid.keys()):\r\n",
                "    print(\"%s: %r\" % (param_name, grid_svm.best_params_[param_name]))"
            ],
            "metadata": {
                "azdata_cell_guid": "8b90163b-efcd-4044-aec3-fb954a5e2842"
            },
            "outputs": [
                {
                    "output_type": "stream",
                    "name": "stdout",
                    "text": "Support Vector Machines predictor best score is : 0.5668758038452659\nmodel__l1_ratio: 0.0\nvect__max_features: 30000\nvect__ngram_range: (1, 2)\n"
                }
            ],
            "execution_count": 22
        },
        {
            "cell_type": "markdown",
            "source": [
                "comments and subreddit"
            ],
            "metadata": {
                "azdata_cell_guid": "c3c4aa25-029c-4a23-89ae-6a56fffe96a1"
            }
        },
        {
            "cell_type": "code",
            "source": [
                "train_comments_and_subreddits_slim.shape\r\n",
                "#train_label_slim.shape"
            ],
            "metadata": {
                "azdata_cell_guid": "971c85ee-6125-41eb-9ae5-8a17a8e7d79d"
            },
            "outputs": [
                {
                    "output_type": "execute_result",
                    "execution_count": 41,
                    "data": {
                        "text/plain": "(242584, 2)"
                    },
                    "metadata": {}
                }
            ],
            "execution_count": 41
        },
        {
            "cell_type": "code",
            "source": [
                "%%time\r\n",
                "grid_svm.fit(train_comments_and_subreddits_slim, train_label_slim)"
            ],
            "metadata": {
                "azdata_cell_guid": "a1dfff8f-0956-4ca1-8b8b-61efd338e3ca"
            },
            "outputs": [
                {
                    "output_type": "error",
                    "ename": "ValueError",
                    "evalue": "Found input variables with inconsistent numbers of samples: [2, 242584]",
                    "traceback": [
                        "\u001b[1;31m---------------------------------------------------------------------------\u001b[0m",
                        "\u001b[1;31mValueError\u001b[0m                                Traceback (most recent call last)",
                        "\u001b[1;32m<timed eval>\u001b[0m in \u001b[0;36m<module>\u001b[1;34m\u001b[0m\n",
                        "\u001b[1;32m~\\anaconda3\\lib\\site-packages\\sklearn\\model_selection\\_search.py\u001b[0m in \u001b[0;36mfit\u001b[1;34m(self, X, y, groups, **fit_params)\u001b[0m\n\u001b[0;32m    648\u001b[0m             \u001b[0mrefit_metric\u001b[0m \u001b[1;33m=\u001b[0m \u001b[1;34m'score'\u001b[0m\u001b[1;33m\u001b[0m\u001b[1;33m\u001b[0m\u001b[0m\n\u001b[0;32m    649\u001b[0m \u001b[1;33m\u001b[0m\u001b[0m\n\u001b[1;32m--> 650\u001b[1;33m         \u001b[0mX\u001b[0m\u001b[1;33m,\u001b[0m \u001b[0my\u001b[0m\u001b[1;33m,\u001b[0m \u001b[0mgroups\u001b[0m \u001b[1;33m=\u001b[0m \u001b[0mindexable\u001b[0m\u001b[1;33m(\u001b[0m\u001b[0mX\u001b[0m\u001b[1;33m,\u001b[0m \u001b[0my\u001b[0m\u001b[1;33m,\u001b[0m \u001b[0mgroups\u001b[0m\u001b[1;33m)\u001b[0m\u001b[1;33m\u001b[0m\u001b[1;33m\u001b[0m\u001b[0m\n\u001b[0m\u001b[0;32m    651\u001b[0m         \u001b[0mfit_params\u001b[0m \u001b[1;33m=\u001b[0m \u001b[0m_check_fit_params\u001b[0m\u001b[1;33m(\u001b[0m\u001b[0mX\u001b[0m\u001b[1;33m,\u001b[0m \u001b[0mfit_params\u001b[0m\u001b[1;33m)\u001b[0m\u001b[1;33m\u001b[0m\u001b[1;33m\u001b[0m\u001b[0m\n\u001b[0;32m    652\u001b[0m \u001b[1;33m\u001b[0m\u001b[0m\n",
                        "\u001b[1;32m~\\anaconda3\\lib\\site-packages\\sklearn\\utils\\validation.py\u001b[0m in \u001b[0;36mindexable\u001b[1;34m(*iterables)\u001b[0m\n\u001b[0;32m    246\u001b[0m     \"\"\"\n\u001b[0;32m    247\u001b[0m     \u001b[0mresult\u001b[0m \u001b[1;33m=\u001b[0m \u001b[1;33m[\u001b[0m\u001b[0m_make_indexable\u001b[0m\u001b[1;33m(\u001b[0m\u001b[0mX\u001b[0m\u001b[1;33m)\u001b[0m \u001b[1;32mfor\u001b[0m \u001b[0mX\u001b[0m \u001b[1;32min\u001b[0m \u001b[0miterables\u001b[0m\u001b[1;33m]\u001b[0m\u001b[1;33m\u001b[0m\u001b[1;33m\u001b[0m\u001b[0m\n\u001b[1;32m--> 248\u001b[1;33m     \u001b[0mcheck_consistent_length\u001b[0m\u001b[1;33m(\u001b[0m\u001b[1;33m*\u001b[0m\u001b[0mresult\u001b[0m\u001b[1;33m)\u001b[0m\u001b[1;33m\u001b[0m\u001b[1;33m\u001b[0m\u001b[0m\n\u001b[0m\u001b[0;32m    249\u001b[0m     \u001b[1;32mreturn\u001b[0m \u001b[0mresult\u001b[0m\u001b[1;33m\u001b[0m\u001b[1;33m\u001b[0m\u001b[0m\n\u001b[0;32m    250\u001b[0m \u001b[1;33m\u001b[0m\u001b[0m\n",
                        "\u001b[1;32m~\\anaconda3\\lib\\site-packages\\sklearn\\utils\\validation.py\u001b[0m in \u001b[0;36mcheck_consistent_length\u001b[1;34m(*arrays)\u001b[0m\n\u001b[0;32m    210\u001b[0m     \u001b[1;32mif\u001b[0m \u001b[0mlen\u001b[0m\u001b[1;33m(\u001b[0m\u001b[0muniques\u001b[0m\u001b[1;33m)\u001b[0m \u001b[1;33m>\u001b[0m \u001b[1;36m1\u001b[0m\u001b[1;33m:\u001b[0m\u001b[1;33m\u001b[0m\u001b[1;33m\u001b[0m\u001b[0m\n\u001b[0;32m    211\u001b[0m         raise ValueError(\"Found input variables with inconsistent numbers of\"\n\u001b[1;32m--> 212\u001b[1;33m                          \" samples: %r\" % [int(l) for l in lengths])\n\u001b[0m\u001b[0;32m    213\u001b[0m \u001b[1;33m\u001b[0m\u001b[0m\n\u001b[0;32m    214\u001b[0m \u001b[1;33m\u001b[0m\u001b[0m\n",
                        "\u001b[1;31mValueError\u001b[0m: Found input variables with inconsistent numbers of samples: [2, 242584]"
                    ]
                }
            ],
            "execution_count": 42
        },
        {
            "cell_type": "markdown",
            "source": [
                "choose a model"
            ],
            "metadata": {
                "azdata_cell_guid": "b2b8a037-613b-45b9-b234-f3557d1b984d"
            }
        },
        {
            "cell_type": "code",
            "source": [
                "%%time\r\n",
                "# recreate the vectorizer and transformer so they are not fit yet\r\n",
                "vect = CountVectorizer(strip_accents = 'unicode', \r\n",
                "                        stop_words = stopwords, \r\n",
                "                        min_df = 0.0001, \r\n",
                "                        max_df = 0.70, \r\n",
                "                        max_features = 15000, \r\n",
                "                        ngram_range = (1, 3))\r\n",
                "# create the NB model\r\n",
                "nb_model = MultinomialNB()\r\n",
                "\r\n",
                "# instantiate Pipeline for model \r\n",
                "chosen_model = Pipeline([\r\n",
                "    ('vect', token_count_matrix),\r\n",
                "    ('tftrans', tfidf_trans_normalized),\r\n",
                "    ('model', nb_model)\r\n",
                "])\r\n",
                "\r\n",
                "chosen_model.fit(train_comments, train_label)"
            ],
            "metadata": {
                "azdata_cell_guid": "2f0d0cda-a5fe-4f93-a4f2-9e0f3d589771"
            },
            "outputs": [
                {
                    "output_type": "stream",
                    "name": "stdout",
                    "text": "Wall time: 25.3 s\n"
                },
                {
                    "output_type": "execute_result",
                    "execution_count": 40,
                    "data": {
                        "text/plain": "Pipeline(memory=None,\n         steps=[('vect',\n                 CountVectorizer(analyzer='word', binary=False,\n                                 decode_error='strict',\n                                 dtype=<class 'numpy.int64'>, encoding='utf-8',\n                                 input='content', lowercase=True, max_df=0.7,\n                                 max_features=None, min_df=0.0001,\n                                 ngram_range=(1, 1), preprocessor=None,\n                                 stop_words=['i', 'me', 'my', 'myself', 'we',\n                                             'our', 'ours', 'ourselves', 'you',\n                                             \"you're\", \"you've\", \"you...\n                                             'him', 'his', 'himself', 'she',\n                                             \"she's\", 'her', 'hers', 'herself',\n                                             'it', \"it's\", 'its', 'itself', ...],\n                                 strip_accents='unicode',\n                                 token_pattern='(?u)\\\\b\\\\w\\\\w+\\\\b',\n                                 tokenizer=None, vocabulary=None)),\n                ('tftrans',\n                 TfidfTransformer(norm='l2', smooth_idf=True,\n                                  sublinear_tf=False, use_idf=True)),\n                ('model',\n                 MultinomialNB(alpha=1.0, class_prior=None, fit_prior=True))],\n         verbose=False)"
                    },
                    "metadata": {}
                }
            ],
            "execution_count": 40
        },
        {
            "cell_type": "markdown",
            "source": [
                "Evaluate the Model"
            ],
            "metadata": {
                "azdata_cell_guid": "5aa96e8e-7908-47c5-84fd-bc13d49ab14c"
            }
        },
        {
            "cell_type": "code",
            "source": [
                "predictions = chosen_model.predict(X_test)\r\n",
                "print('Accuracy Score: {:.2%}'.format(accuracy_score(y_test,predictions)),'\\n')"
            ],
            "metadata": {
                "azdata_cell_guid": "7f108326-86b1-4997-b31d-93ebeaa660d4"
            },
            "outputs": [
                {
                    "output_type": "error",
                    "ename": "NameError",
                    "evalue": "name 'X_test' is not defined",
                    "traceback": [
                        "\u001b[1;31m---------------------------------------------------------------------------\u001b[0m",
                        "\u001b[1;31mNameError\u001b[0m                                 Traceback (most recent call last)",
                        "\u001b[1;32m<ipython-input-41-530b61e27b88>\u001b[0m in \u001b[0;36m<module>\u001b[1;34m\u001b[0m\n\u001b[1;32m----> 1\u001b[1;33m \u001b[0mpredictions\u001b[0m \u001b[1;33m=\u001b[0m \u001b[0mchosen_model\u001b[0m\u001b[1;33m.\u001b[0m\u001b[0mpredict\u001b[0m\u001b[1;33m(\u001b[0m\u001b[0mX_test\u001b[0m\u001b[1;33m)\u001b[0m\u001b[1;33m\u001b[0m\u001b[1;33m\u001b[0m\u001b[0m\n\u001b[0m\u001b[0;32m      2\u001b[0m \u001b[0mprint\u001b[0m\u001b[1;33m(\u001b[0m\u001b[1;34m'Accuracy Score: {:.2%}'\u001b[0m\u001b[1;33m.\u001b[0m\u001b[0mformat\u001b[0m\u001b[1;33m(\u001b[0m\u001b[0maccuracy_score\u001b[0m\u001b[1;33m(\u001b[0m\u001b[0my_test\u001b[0m\u001b[1;33m,\u001b[0m\u001b[0mpredictions\u001b[0m\u001b[1;33m)\u001b[0m\u001b[1;33m)\u001b[0m\u001b[1;33m,\u001b[0m\u001b[1;34m'\\n'\u001b[0m\u001b[1;33m)\u001b[0m\u001b[1;33m\u001b[0m\u001b[1;33m\u001b[0m\u001b[0m\n",
                        "\u001b[1;31mNameError\u001b[0m: name 'X_test' is not defined"
                    ]
                }
            ],
            "execution_count": 41
        },
        {
            "cell_type": "code",
            "source": [
                "# Plot Confusion Matrix\r\n",
                "\r\n",
                "cm = pd.DataFrame(confusion_matrix(y_test,predictions), index=['NOT SARCASTIC','SARCASTIC'],columns=['NOT SARCASTIC','SARCASTIC'])\r\n",
                "\r\n",
                "fig = plt.figure(figsize=(8,6))\r\n",
                "ax = sns.heatmap(cm,annot=True,cbar=False, cmap='Blues',linewidths=0.5,fmt='.0f')\r\n",
                "ax.set_title('SARCASM DETECTION CONFUSION MATRIX',fontsize=16,y=1.25)\r\n",
                "ax.set_ylabel('ACTUAL',fontsize=14)\r\n",
                "ax.set_xlabel('PREDICTED',fontsize=14)\r\n",
                "ax.xaxis.set_ticks_position('top')\r\n",
                "ax.xaxis.set_label_position('top')\r\n",
                "ax.tick_params(labelsize=12)"
            ],
            "metadata": {
                "azdata_cell_guid": "afd49c94-873c-4169-8cd5-ed7e1cbb57e9"
            },
            "outputs": [],
            "execution_count": null
        }
    ]
}