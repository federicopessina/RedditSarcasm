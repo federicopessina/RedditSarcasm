{
    "metadata": {
        "kernelspec": {
            "name": "python3",
            "display_name": "Python 3",
            "language": "python"
        },
        "language_info": {
            "name": "python",
            "version": "3.7.6",
            "mimetype": "text/x-python",
            "codemirror_mode": {
                "name": "ipython",
                "version": 3
            },
            "pygments_lexer": "ipython3",
            "nbconvert_exporter": "python",
            "file_extension": ".py"
        }
    },
    "nbformat_minor": 2,
    "nbformat": 4,
    "cells": [
        {
            "cell_type": "markdown",
            "source": [
                "# Instructions\n",
                "\n",
                "## Dataset and Goal\n",
                "\n",
                "The Sarcasm on Reddit dataset provides comments posted on Reddit labeled as sarcastic (1) or not sarcastic (0). The task of the project is, given only the parent comment and the Reddit category (subreddit), to predict the probability of a parent comment to receive a sarcastic comment.\n",
                "\n",
                "  \n",
                "\n",
                "## Evaluation strategy\n",
                "\n",
                "Cross-validation.\n",
                "\n",
                "## Dataset\n",
                "\n",
                "[Sarcasm on Reddit](https://www.kaggle.com/danofer/sarcasm)\n",
                "\n",
                "## References\n",
                "\n",
                "[Khodak, M., Saunshi, N., & Vodrahalli, K. (2017). A large self-annotated corpus for sarcasm](https://arxiv.org/abs/1704.05579)\n",
                "\n",
                "[Eke, C. I., Norman, A. A., Shuib, L., & Nweke, H. F. (2019). Sarcasm identification in textual data: systematic review, research challenges and open directions. Artificial Intelligence Review, 1-44](https://link.springer.com/article/10.1007/s10462-019-09791-8)\n",
                "\n",
                "[Joshi, A., Bhattacharyya, P., & Carman, M. J. (2017). Automatic sarcasm detection: A survey. ACM Computing Surveys (CSUR), 50(5), 1-22](https://dl.acm.org/doi/abs/10.1145/3124420)"
            ],
            "metadata": {
                "azdata_cell_guid": "e1421d35-4c32-40d5-b343-c89aaae56fe7"
            }
        },
        {
            "cell_type": "markdown",
            "source": [
                "# Project"
            ],
            "metadata": {
                "azdata_cell_guid": "9c3eea27-9813-409b-9a79-3a361c729874"
            }
        },
        {
            "cell_type": "markdown",
            "source": [
                "## Import Dataset"
            ],
            "metadata": {
                "azdata_cell_guid": "91a9e388-19ae-4d16-a40b-1dc7c7ff462a"
            }
        },
        {
            "cell_type": "code",
            "source": [
                "import time\n",
                "import os # accessing directory structure\n",
                "import pandas as pd # data processing, CSV file I/O (e.g. pd.read_csv)"
            ],
            "metadata": {
                "azdata_cell_guid": "74e4aa97-576c-41ac-bbb7-3258bdd7f961",
                "tags": []
            },
            "outputs": [],
            "execution_count": 90
        },
        {
            "cell_type": "code",
            "source": [
                "for dirname, _, filenames in os.walk('C:/Users/User/Desktop/university/text mining/ferrara/project/dataset'):\n",
                "    for filename in filenames:\n",
                "        print(os.path.join(dirname, filename))"
            ],
            "metadata": {
                "azdata_cell_guid": "f85ab73b-9a41-4155-b1e0-8513c9593e9b",
                "tags": []
            },
            "outputs": [
                {
                    "name": "stdout",
                    "text": "C:/Users/User/Desktop/university/text mining/ferrara/project/dataset\\test-balanced.csv\nC:/Users/User/Desktop/university/text mining/ferrara/project/dataset\\test-unbalanced.csv\nC:/Users/User/Desktop/university/text mining/ferrara/project/dataset\\train-balanced-sarc.csv.gz\nC:/Users/User/Desktop/university/text mining/ferrara/project/dataset\\train-balanced-sarcasm.csv\n",
                    "output_type": "stream"
                }
            ],
            "execution_count": 91
        },
        {
            "cell_type": "code",
            "source": [
                "nRowsRead = None # specify 'None' if want to read whole file\r\n",
                "# train-balanced-sarcasm.csv has 1010826 rows in reality, but we are only loading/previewing the first 1000 rows\r\n",
                "df_data = pd.read_csv('C:/Users/User/Desktop/university/text mining/ferrara/project/dataset/train-balanced-sarcasm.csv', delimiter=',', nrows = nRowsRead)\r\n",
                "df_data.dataframeName = 'train-balanced-sarcasm.csv'\r\n",
                "nRow, nCol = df_data.shape\r\n",
                "print(f'There are {nRow} rows and {nCol} columns')"
            ],
            "metadata": {
                "azdata_cell_guid": "fe55dfaa-6b9b-434b-bb3d-cf219f532fe6"
            },
            "outputs": [
                {
                    "name": "stdout",
                    "text": "There are 1010826 rows and 10 columns\n",
                    "output_type": "stream"
                }
            ],
            "execution_count": 93
        },
        {
            "cell_type": "code",
            "source": [
                "df_data.info()"
            ],
            "metadata": {
                "azdata_cell_guid": "d2b08b95-b33a-4356-9752-8f96207a4e4d"
            },
            "outputs": [
                {
                    "name": "stdout",
                    "text": "<class 'pandas.core.frame.DataFrame'>\nRangeIndex: 1010826 entries, 0 to 1010825\nData columns (total 10 columns):\n #   Column          Non-Null Count    Dtype \n---  ------          --------------    ----- \n 0   label           1010826 non-null  int64 \n 1   comment         1010773 non-null  object\n 2   author          1010826 non-null  object\n 3   subreddit       1010826 non-null  object\n 4   score           1010826 non-null  int64 \n 5   ups             1010826 non-null  int64 \n 6   downs           1010826 non-null  int64 \n 7   date            1010826 non-null  object\n 8   created_utc     1010826 non-null  object\n 9   parent_comment  1010826 non-null  object\ndtypes: int64(4), object(6)\nmemory usage: 77.1+ MB\n",
                    "output_type": "stream"
                }
            ],
            "execution_count": 94
        },
        {
            "cell_type": "code",
            "source": [
                "nRowsRead = None # specify 'None' if want to read whole file, else an int to retrieve a subset of rows\n",
                "# test-unbalanced.csv has 63997 rows in reality, but we are only loading/previewing the first 1000 rows\n",
                "df_test_unbal = pd.read_csv('C:/Users/User/Desktop/university/text mining/ferrara/project/dataset/test-unbalanced.csv', delimiter=',', nrows = nRowsRead)\n",
                "df_test_unbal.dataframeName = 'test-unbalanced.csv'\n",
                "nRow, nCol = df_test_unbal.shape\n",
                "print(f'There are {nRow} rows and {nCol} columns')"
            ],
            "metadata": {
                "azdata_cell_guid": "1f6e4a1e-bd48-42c1-a24a-4b0bed815e9d"
            },
            "outputs": [
                {
                    "name": "stdout",
                    "text": "There are 63997 rows and 3 columns\n",
                    "output_type": "stream"
                }
            ],
            "execution_count": 95
        },
        {
            "cell_type": "code",
            "source": [
                "df_test_unbal.head()"
            ],
            "metadata": {
                "azdata_cell_guid": "0f0e4925-9b63-4290-b983-8918403151c6"
            },
            "outputs": [
                {
                    "data": {
                        "text/plain": "           7u1ht                                            c07em3g  \\\n0          7u92p  c07f8sq c07flil c07fgh5 c07f9ck c07fn0s c07fl0...   \n1          7vvpw            c07khcb c07jx0k c07jzxi c07k0t3 c07jx2j   \n2  7vv27 c07ju7y                                            c07jub3   \n3          7wco4                            c07l718 c07lfcd c07l7zu   \n4          7xgdr                                            c07o9qu   \n\n                       1  \n0  0 0 0 0 0 0 0 0 0 0 0  \n1              0 0 0 0 0  \n2                      1  \n3                  0 0 0  \n4                      1  ",
                        "text/html": "<div>\n<style scoped>\n    .dataframe tbody tr th:only-of-type {\n        vertical-align: middle;\n    }\n\n    .dataframe tbody tr th {\n        vertical-align: top;\n    }\n\n    .dataframe thead th {\n        text-align: right;\n    }\n</style>\n<table border=\"1\" class=\"dataframe\">\n  <thead>\n    <tr style=\"text-align: right;\">\n      <th></th>\n      <th>7u1ht</th>\n      <th>c07em3g</th>\n      <th>1</th>\n    </tr>\n  </thead>\n  <tbody>\n    <tr>\n      <th>0</th>\n      <td>7u92p</td>\n      <td>c07f8sq c07flil c07fgh5 c07f9ck c07fn0s c07fl0...</td>\n      <td>0 0 0 0 0 0 0 0 0 0 0</td>\n    </tr>\n    <tr>\n      <th>1</th>\n      <td>7vvpw</td>\n      <td>c07khcb c07jx0k c07jzxi c07k0t3 c07jx2j</td>\n      <td>0 0 0 0 0</td>\n    </tr>\n    <tr>\n      <th>2</th>\n      <td>7vv27 c07ju7y</td>\n      <td>c07jub3</td>\n      <td>1</td>\n    </tr>\n    <tr>\n      <th>3</th>\n      <td>7wco4</td>\n      <td>c07l718 c07lfcd c07l7zu</td>\n      <td>0 0 0</td>\n    </tr>\n    <tr>\n      <th>4</th>\n      <td>7xgdr</td>\n      <td>c07o9qu</td>\n      <td>1</td>\n    </tr>\n  </tbody>\n</table>\n</div>"
                    },
                    "metadata": {},
                    "execution_count": 96,
                    "output_type": "execute_result"
                }
            ],
            "execution_count": 96
        },
        {
            "cell_type": "code",
            "source": [
                "df_test_unbal.describe()"
            ],
            "metadata": {
                "azdata_cell_guid": "1362fa4f-53fa-444a-a80f-03c5387c2b09"
            },
            "outputs": [
                {
                    "data": {
                        "text/plain": "        7u1ht                          c07em3g      1\ncount   63997                            63997  63997\nunique  63997                            63997   5580\ntop     ql4d6  d4d8662 d4dbs6x d4d5opl d4dqdzc      1\nfreq        1                                1  10988",
                        "text/html": "<div>\n<style scoped>\n    .dataframe tbody tr th:only-of-type {\n        vertical-align: middle;\n    }\n\n    .dataframe tbody tr th {\n        vertical-align: top;\n    }\n\n    .dataframe thead th {\n        text-align: right;\n    }\n</style>\n<table border=\"1\" class=\"dataframe\">\n  <thead>\n    <tr style=\"text-align: right;\">\n      <th></th>\n      <th>7u1ht</th>\n      <th>c07em3g</th>\n      <th>1</th>\n    </tr>\n  </thead>\n  <tbody>\n    <tr>\n      <th>count</th>\n      <td>63997</td>\n      <td>63997</td>\n      <td>63997</td>\n    </tr>\n    <tr>\n      <th>unique</th>\n      <td>63997</td>\n      <td>63997</td>\n      <td>5580</td>\n    </tr>\n    <tr>\n      <th>top</th>\n      <td>ql4d6</td>\n      <td>d4d8662 d4dbs6x d4d5opl d4dqdzc</td>\n      <td>1</td>\n    </tr>\n    <tr>\n      <th>freq</th>\n      <td>1</td>\n      <td>1</td>\n      <td>10988</td>\n    </tr>\n  </tbody>\n</table>\n</div>"
                    },
                    "metadata": {},
                    "execution_count": 42,
                    "output_type": "execute_result"
                }
            ],
            "execution_count": 42
        },
        {
            "cell_type": "code",
            "source": [
                "df_test_unbal.info()"
            ],
            "metadata": {
                "azdata_cell_guid": "faf64c2d-398b-4356-a83e-a956e5d6fd49"
            },
            "outputs": [
                {
                    "name": "stdout",
                    "text": "<class 'pandas.core.frame.DataFrame'>\nRangeIndex: 63997 entries, 0 to 63996\nData columns (total 3 columns):\n #   Column   Non-Null Count  Dtype \n---  ------   --------------  ----- \n 0   7u1ht    63997 non-null  object\n 1   c07em3g  63997 non-null  object\n 2   1        63997 non-null  object\ndtypes: object(3)\nmemory usage: 1.5+ MB\n",
                    "output_type": "stream"
                }
            ],
            "execution_count": 97
        },
        {
            "cell_type": "code",
            "source": [
                "nRowsRead = None # specify 'None' if want to read whole file, else an int to retrieve a subset of rows\r\n",
                "# test-unbalanced.csv has 63997 rows in reality, but we are only loading/previewing the first 1000 rows\r\n",
                "df_test_bal = pd.read_csv('C:/Users/User/Desktop/university/text mining/ferrara/project/dataset/test-balanced.csv', delimiter=',', nrows = nRowsRead)\r\n",
                "df_test_bal.dataframeName = 'test-unbalanced.csv'\r\n",
                "nRow, nCol = df_test_bal.shape\r\n",
                "print(f'There are {nRow} rows and {nCol} columns')"
            ],
            "metadata": {
                "azdata_cell_guid": "07291b7e-b705-48d6-a179-f6cd5557d9e4"
            },
            "outputs": [
                {
                    "name": "stdout",
                    "text": "There are 32332 rows and 3 columns\n",
                    "output_type": "stream"
                }
            ],
            "execution_count": 98
        },
        {
            "cell_type": "code",
            "source": [
                "df_test_bal.info()"
            ],
            "metadata": {
                "azdata_cell_guid": "63944a44-50c2-4d71-a005-bc45068b34bf"
            },
            "outputs": [
                {
                    "name": "stdout",
                    "text": "<class 'pandas.core.frame.DataFrame'>\nRangeIndex: 32332 entries, 0 to 32331\nData columns (total 3 columns):\n #   Column           Non-Null Count  Dtype \n---  ------           --------------  ----- \n 0   7x7dx            32332 non-null  object\n 1   c07nkao c07nk63  32332 non-null  object\n 2   1 0              32332 non-null  object\ndtypes: object(3)\nmemory usage: 757.9+ KB\n",
                    "output_type": "stream"
                }
            ],
            "execution_count": 100
        },
        {
            "cell_type": "code",
            "source": [
                "df_test_unbal.head(5)"
            ],
            "metadata": {
                "azdata_cell_guid": "e1d9f0ee-4613-4452-b772-b95bd0242cb8"
            },
            "outputs": [
                {
                    "data": {
                        "text/plain": "           7u1ht                                            c07em3g  \\\n0          7u92p  c07f8sq c07flil c07fgh5 c07f9ck c07fn0s c07fl0...   \n1          7vvpw            c07khcb c07jx0k c07jzxi c07k0t3 c07jx2j   \n2  7vv27 c07ju7y                                            c07jub3   \n3          7wco4                            c07l718 c07lfcd c07l7zu   \n4          7xgdr                                            c07o9qu   \n\n                       1  \n0  0 0 0 0 0 0 0 0 0 0 0  \n1              0 0 0 0 0  \n2                      1  \n3                  0 0 0  \n4                      1  ",
                        "text/html": "<div>\n<style scoped>\n    .dataframe tbody tr th:only-of-type {\n        vertical-align: middle;\n    }\n\n    .dataframe tbody tr th {\n        vertical-align: top;\n    }\n\n    .dataframe thead th {\n        text-align: right;\n    }\n</style>\n<table border=\"1\" class=\"dataframe\">\n  <thead>\n    <tr style=\"text-align: right;\">\n      <th></th>\n      <th>7u1ht</th>\n      <th>c07em3g</th>\n      <th>1</th>\n    </tr>\n  </thead>\n  <tbody>\n    <tr>\n      <th>0</th>\n      <td>7u92p</td>\n      <td>c07f8sq c07flil c07fgh5 c07f9ck c07fn0s c07fl0...</td>\n      <td>0 0 0 0 0 0 0 0 0 0 0</td>\n    </tr>\n    <tr>\n      <th>1</th>\n      <td>7vvpw</td>\n      <td>c07khcb c07jx0k c07jzxi c07k0t3 c07jx2j</td>\n      <td>0 0 0 0 0</td>\n    </tr>\n    <tr>\n      <th>2</th>\n      <td>7vv27 c07ju7y</td>\n      <td>c07jub3</td>\n      <td>1</td>\n    </tr>\n    <tr>\n      <th>3</th>\n      <td>7wco4</td>\n      <td>c07l718 c07lfcd c07l7zu</td>\n      <td>0 0 0</td>\n    </tr>\n    <tr>\n      <th>4</th>\n      <td>7xgdr</td>\n      <td>c07o9qu</td>\n      <td>1</td>\n    </tr>\n  </tbody>\n</table>\n</div>"
                    },
                    "metadata": {},
                    "execution_count": 101,
                    "output_type": "execute_result"
                }
            ],
            "execution_count": 101
        },
        {
            "cell_type": "code",
            "source": [
                "df_test_bal.head(5)"
            ],
            "metadata": {
                "azdata_cell_guid": "662e68af-5782-4df3-8cee-ba39fcd7ba05"
            },
            "outputs": [
                {
                    "data": {
                        "text/plain": "   7x7dx  c07nkao c07nk63  1 0\n0  7xtxk  c07pji4 c07ppds  1 0\n1  7zh5l  c07twag c07twp2  1 0\n2  80nmo  c07y1rj c07xhyn  0 1\n3  8139p  c07yhlm c07yoiw  1 0\n4  bnmod  c0nnujf c0nofrs  1 0",
                        "text/html": "<div>\n<style scoped>\n    .dataframe tbody tr th:only-of-type {\n        vertical-align: middle;\n    }\n\n    .dataframe tbody tr th {\n        vertical-align: top;\n    }\n\n    .dataframe thead th {\n        text-align: right;\n    }\n</style>\n<table border=\"1\" class=\"dataframe\">\n  <thead>\n    <tr style=\"text-align: right;\">\n      <th></th>\n      <th>7x7dx</th>\n      <th>c07nkao c07nk63</th>\n      <th>1 0</th>\n    </tr>\n  </thead>\n  <tbody>\n    <tr>\n      <th>0</th>\n      <td>7xtxk</td>\n      <td>c07pji4 c07ppds</td>\n      <td>1 0</td>\n    </tr>\n    <tr>\n      <th>1</th>\n      <td>7zh5l</td>\n      <td>c07twag c07twp2</td>\n      <td>1 0</td>\n    </tr>\n    <tr>\n      <th>2</th>\n      <td>80nmo</td>\n      <td>c07y1rj c07xhyn</td>\n      <td>0 1</td>\n    </tr>\n    <tr>\n      <th>3</th>\n      <td>8139p</td>\n      <td>c07yhlm c07yoiw</td>\n      <td>1 0</td>\n    </tr>\n    <tr>\n      <th>4</th>\n      <td>bnmod</td>\n      <td>c0nnujf c0nofrs</td>\n      <td>1 0</td>\n    </tr>\n  </tbody>\n</table>\n</div>"
                    },
                    "metadata": {},
                    "execution_count": 102,
                    "output_type": "execute_result"
                }
            ],
            "execution_count": 102
        },
        {
            "cell_type": "markdown",
            "source": [
                "## Data Cleaning"
            ],
            "metadata": {
                "azdata_cell_guid": "8c713f28-96ac-474a-aae8-a495396aec34"
            }
        },
        {
            "cell_type": "markdown",
            "source": [
                "Drop na tuples"
            ],
            "metadata": {
                "azdata_cell_guid": "af78a60f-0d24-4976-ad20-78894da7d7b0"
            }
        },
        {
            "cell_type": "code",
            "source": [
                "df_data.isna().sum(axis=0)"
            ],
            "metadata": {
                "azdata_cell_guid": "8b10790a-a3e9-44f9-b8b3-b06ab90a4e58"
            },
            "outputs": [
                {
                    "data": {
                        "text/plain": "label              0\ncomment           53\nauthor             0\nsubreddit          0\nscore              0\nups                0\ndowns              0\ndate               0\ncreated_utc        0\nparent_comment     0\ndtype: int64"
                    },
                    "metadata": {},
                    "execution_count": 103,
                    "output_type": "execute_result"
                }
            ],
            "execution_count": 103
        },
        {
            "cell_type": "code",
            "source": [
                "na_comments = df_data[\"comment\"].isna()\r\n",
                "na_comments = df_data[na_comments].index\r\n",
                "df_data.drop(na_comments, axis=0, inplace=True)"
            ],
            "metadata": {
                "azdata_cell_guid": "9f6f564d-0f75-49cd-b474-90b71a832ca2"
            },
            "outputs": [],
            "execution_count": 104
        },
        {
            "cell_type": "markdown",
            "source": [
                "Check validity of ups and downs attributes"
            ],
            "metadata": {
                "azdata_cell_guid": "15689334-f182-4f82-b2d7-392efefcf55a"
            }
        },
        {
            "cell_type": "code",
            "source": [
                "df_data.describe()"
            ],
            "metadata": {
                "azdata_cell_guid": "c7160b16-bcf9-4ad0-9ad2-3730511481d8"
            },
            "outputs": [
                {
                    "data": {
                        "text/plain": "              label         score           ups         downs\ncount  1.010773e+06  1.010773e+06  1.010773e+06  1.010773e+06\nmean   4.999817e-01  6.885999e+00  5.499140e+00 -1.458686e-01\nstd    5.000002e-01  4.834411e+01  4.127402e+01  3.529746e-01\nmin    0.000000e+00 -5.070000e+02 -5.070000e+02 -1.000000e+00\n25%    0.000000e+00  1.000000e+00  0.000000e+00  0.000000e+00\n50%    0.000000e+00  2.000000e+00  1.000000e+00  0.000000e+00\n75%    1.000000e+00  4.000000e+00  3.000000e+00  0.000000e+00\nmax    1.000000e+00  9.070000e+03  5.163000e+03  0.000000e+00",
                        "text/html": "<div>\n<style scoped>\n    .dataframe tbody tr th:only-of-type {\n        vertical-align: middle;\n    }\n\n    .dataframe tbody tr th {\n        vertical-align: top;\n    }\n\n    .dataframe thead th {\n        text-align: right;\n    }\n</style>\n<table border=\"1\" class=\"dataframe\">\n  <thead>\n    <tr style=\"text-align: right;\">\n      <th></th>\n      <th>label</th>\n      <th>score</th>\n      <th>ups</th>\n      <th>downs</th>\n    </tr>\n  </thead>\n  <tbody>\n    <tr>\n      <th>count</th>\n      <td>1.010773e+06</td>\n      <td>1.010773e+06</td>\n      <td>1.010773e+06</td>\n      <td>1.010773e+06</td>\n    </tr>\n    <tr>\n      <th>mean</th>\n      <td>4.999817e-01</td>\n      <td>6.885999e+00</td>\n      <td>5.499140e+00</td>\n      <td>-1.458686e-01</td>\n    </tr>\n    <tr>\n      <th>std</th>\n      <td>5.000002e-01</td>\n      <td>4.834411e+01</td>\n      <td>4.127402e+01</td>\n      <td>3.529746e-01</td>\n    </tr>\n    <tr>\n      <th>min</th>\n      <td>0.000000e+00</td>\n      <td>-5.070000e+02</td>\n      <td>-5.070000e+02</td>\n      <td>-1.000000e+00</td>\n    </tr>\n    <tr>\n      <th>25%</th>\n      <td>0.000000e+00</td>\n      <td>1.000000e+00</td>\n      <td>0.000000e+00</td>\n      <td>0.000000e+00</td>\n    </tr>\n    <tr>\n      <th>50%</th>\n      <td>0.000000e+00</td>\n      <td>2.000000e+00</td>\n      <td>1.000000e+00</td>\n      <td>0.000000e+00</td>\n    </tr>\n    <tr>\n      <th>75%</th>\n      <td>1.000000e+00</td>\n      <td>4.000000e+00</td>\n      <td>3.000000e+00</td>\n      <td>0.000000e+00</td>\n    </tr>\n    <tr>\n      <th>max</th>\n      <td>1.000000e+00</td>\n      <td>9.070000e+03</td>\n      <td>5.163000e+03</td>\n      <td>0.000000e+00</td>\n    </tr>\n  </tbody>\n</table>\n</div>"
                    },
                    "metadata": {},
                    "execution_count": 105,
                    "output_type": "execute_result"
                }
            ],
            "execution_count": 105
        },
        {
            "cell_type": "code",
            "source": [
                "value_counts_downs = df_data[\"downs\"].value_counts()\r\n",
                "value_counts_downs"
            ],
            "metadata": {
                "azdata_cell_guid": "4b727e12-f9be-4953-8a2d-764c43724e30"
            },
            "outputs": [
                {
                    "data": {
                        "text/plain": " 0    863333\n-1    147440\nName: downs, dtype: int64"
                    },
                    "metadata": {},
                    "execution_count": 106,
                    "output_type": "execute_result"
                }
            ],
            "execution_count": 106
        },
        {
            "cell_type": "code",
            "source": [
                "value_count_ups = df_data[\"ups\"].value_counts()\r\n",
                "value_count_ups"
            ],
            "metadata": {
                "azdata_cell_guid": "09d8047f-e059-46d8-bfb8-45eb9798bdde"
            },
            "outputs": [
                {
                    "data": {
                        "text/plain": " 1       289577\n-1       168042\n 2       138984\n 3        76593\n 0        51848\n          ...  \n 2813         1\n 764          1\n-261          1\n 762          1\n 760          1\nName: ups, Length: 1171, dtype: int64"
                    },
                    "metadata": {},
                    "execution_count": 107,
                    "output_type": "execute_result"
                }
            ],
            "execution_count": 107
        },
        {
            "cell_type": "code",
            "source": [
                "negative_ups = sum(df_data[\"ups\"] < 0)\r\n",
                "negative_ups"
            ],
            "metadata": {
                "azdata_cell_guid": "95f79908-c9ef-472f-96f4-fc90e0534557"
            },
            "outputs": [
                {
                    "data": {
                        "text/plain": "209162"
                    },
                    "metadata": {},
                    "execution_count": 108,
                    "output_type": "execute_result"
                }
            ],
            "execution_count": 108
        },
        {
            "cell_type": "markdown",
            "source": [
                "## Data Exploration"
            ],
            "metadata": {
                "azdata_cell_guid": "2561b2c7-7d03-4c2e-bdeb-c13daee2905a"
            }
        },
        {
            "cell_type": "code",
            "source": [
                "import matplotlib.pyplot as plt\r\n",
                "\r\n",
                "scores_sarc = df_data[\"score\"][df_data[\"label\"] == 1]\r\n",
                "scores_non = df_data[\"score\"][df_data[\"label\"] == 0]\r\n",
                "bins = list(range(-15, 16))\r\n",
                "plt.hist(scores_sarc, bins=bins, alpha=0.5, label=\"sarcastic\")\r\n",
                "plt.hist(scores_non, bins=bins, alpha=0.5, label=\"non-sarcastic\")\r\n",
                "plt.xlabel(\"score\")\r\n",
                "plt.ylabel(\"frequency\")\r\n",
                "plt.legend(loc=\"upper right\")\r\n",
                "plt.savefig('sarcasm_distribution_by_score.png', bbox_inches = 'tight', pad_inches = 0.15) # savefig() before show()\r\n",
                "plt.show()"
            ],
            "metadata": {
                "azdata_cell_guid": "532083ef-a43e-494b-8a17-9b1f9659bd54",
                "tags": []
            },
            "outputs": [
                {
                    "data": {
                        "text/plain": "<Figure size 432x288 with 1 Axes>",
                        "image/png": "[encoded data removed]"
                    },
                    "metadata": {
                        "needs_background": "light"
                    },
                    "output_type": "display_data"
                }
            ],
            "execution_count": 109
        },
        {
            "cell_type": "code",
            "source": [
                "by_month = df_data.groupby(\"date\").agg({\"label\" : \"mean\", \"comment\" : \"count\"})\r\n",
                "months = list(by_month.index)\r\n",
                "label_pos = list(range(0, len(months), 6))\r\n",
                "m_labels = [months[i] for i in label_pos]\r\n",
                "\r\n",
                "plt.plot(months, by_month[\"label\"])\r\n",
                "plt.xlabel(\"year-month\")\r\n",
                "plt.ylabel(\"% sarcastic\")\r\n",
                "plt.xticks(label_pos, m_labels, rotation=45, ha=\"right\")\r\n",
                "plt.savefig('sarcasm_distribution_by_year_month.png', bbox_inches = 'tight', pad_inches = 0.15) # savefig() before show()\r\n",
                "plt.show()"
            ],
            "metadata": {
                "azdata_cell_guid": "98c4a9f2-1a08-43dd-ab53-135f1cae7cf8"
            },
            "outputs": [
                {
                    "data": {
                        "text/plain": "<Figure size 432x288 with 1 Axes>",
                        "image/png": "[encoded data removed]"
                    },
                    "metadata": {
                        "needs_background": "light"
                    },
                    "output_type": "display_data"
                }
            ],
            "execution_count": 111
        },
        {
            "cell_type": "code",
            "source": [
                "months = list(by_month.index)\r\n",
                "label_pos = list(range(0, len(months), 6))\r\n",
                "m_labels = [months[i] for i in label_pos]\r\n",
                "\r\n",
                "plt.plot(months, by_month[\"comment\"])\r\n",
                "plt.xlabel(\"year-month\")\r\n",
                "plt.ylabel(\"# of comments\")\r\n",
                "plt.xticks(label_pos, m_labels, rotation=45, ha=\"right\")\r\n",
                "plt.savefig('commentnumber_distribution_by_year_month.png', bbox_inches = 'tight', pad_inches = 0.15) # savefig() before show()\r\n",
                "plt.show()"
            ],
            "metadata": {
                "azdata_cell_guid": "5d16b6a1-6c0f-4fb0-9a23-b46980fd8bb7"
            },
            "outputs": [
                {
                    "data": {
                        "text/plain": "<Figure size 432x288 with 1 Axes>",
                        "image/png": "[encoded data removed]"
                    },
                    "metadata": {
                        "needs_background": "light"
                    },
                    "output_type": "display_data"
                }
            ],
            "execution_count": 112
        },
        {
            "cell_type": "code",
            "source": [
                "import matplotlib.pyplot as plt # plotting\n",
                "\n",
                "# Correlation matrix\n",
                "def plotCorrelationMatrix(df, graphWidth):\n",
                "    filename = df.dataframeName\n",
                "    df = df.dropna('columns') # drop columns with NaN\n",
                "    df = df[[col for col in df if df[col].nunique() > 1]] # keep columns where there are more than 1 unique values\n",
                "    if df.shape[1] < 2:\n",
                "        print(f'No correlation plots shown: The number of non-NaN or constant columns ({df.shape[1]}) is less than 2')\n",
                "        return\n",
                "    corr = df.corr()\n",
                "    plt.figure(num=None, figsize=(graphWidth, graphWidth), dpi=80, facecolor='w', edgecolor='k')\n",
                "    corrMat = plt.matshow(corr, fignum = 1)\n",
                "    plt.xticks(range(len(corr.columns)), corr.columns, rotation=90)\n",
                "    plt.yticks(range(len(corr.columns)), corr.columns)\n",
                "    plt.gca().xaxis.tick_bottom()\n",
                "    plt.colorbar(corrMat)\n",
                "    plt.title(f'Correlation Matrix for {filename}', fontsize=15)\n",
                "    plt.show()\n",
                "    \n",
                "plotCorrelationMatrix(df_data, 8)"
            ],
            "metadata": {
                "azdata_cell_guid": "214e120f-be8f-4933-a033-79ed389cbdf0"
            },
            "outputs": [
                {
                    "data": {
                        "text/plain": "<Figure size 640x640 with 2 Axes>",
                        "image/png": "[encoded data removed]"
                    },
                    "metadata": {},
                    "output_type": "display_data"
                }
            ],
            "execution_count": 113
        },
        {
            "cell_type": "code",
            "source": [
                "import numpy as np\r\n",
                "\r\n",
                "# Distribution graphs (histogram/bar graph) of column data\r\n",
                "def plotPerColumnDistribution(df, nGraphShown, nGraphPerRow):\r\n",
                "    nunique = df.nunique()\r\n",
                "    df = df[[col for col in df if nunique[col] > 1 and nunique[col] < 50]] # For displaying purposes, pick columns that have between 1 and 50 unique values\r\n",
                "    nRow, nCol = df.shape\r\n",
                "    columnNames = list(df)\r\n",
                "    nGraphRow = (nCol + nGraphPerRow - 1) / nGraphPerRow\r\n",
                "    plt.figure(num = None, figsize = (6 * nGraphPerRow, 8 * nGraphRow), dpi = 80, facecolor = 'w', edgecolor = 'k')\r\n",
                "    for i in range(min(nCol, nGraphShown)):\r\n",
                "        plt.subplot(nGraphRow, nGraphPerRow, i + 1)\r\n",
                "        columnDf = df.iloc[:, i]\r\n",
                "        if (not np.issubdtype(type(columnDf.iloc[0]), np.number)):\r\n",
                "            valueCounts = columnDf.value_counts()\r\n",
                "            valueCounts.plot.bar()\r\n",
                "        else:\r\n",
                "            columnDf.hist()\r\n",
                "        plt.ylabel('counts')\r\n",
                "        plt.xticks(rotation = 90)\r\n",
                "        plt.title(f'{columnNames[i]} (column {i})')\r\n",
                "    plt.tight_layout(pad = 1.0, w_pad = 1.0, h_pad = 1.0)\r\n",
                "    plt.show()\r\n",
                "\r\n",
                "plotPerColumnDistribution(df_test_bal, 10, 5)"
            ],
            "metadata": {
                "azdata_cell_guid": "1284ae60-9005-4f46-b31c-cd28925e7c20"
            },
            "outputs": [
                {
                    "data": {
                        "text/plain": "<Figure size 2400x640 with 1 Axes>",
                        "image/png": "[encoded data removed]"
                    },
                    "metadata": {},
                    "output_type": "display_data"
                }
            ],
            "execution_count": 58
        },
        {
            "cell_type": "code",
            "source": [
                "plotPerColumnDistribution(df_data, 10, 5)"
            ],
            "metadata": {
                "azdata_cell_guid": "09088286-07e9-4151-9dc8-bb32a0403445"
            },
            "outputs": [
                {
                    "data": {
                        "text/plain": "<Figure size 2400x768 with 2 Axes>",
                        "image/png": "[encoded data removed]"
                    },
                    "metadata": {},
                    "output_type": "display_data"
                }
            ],
            "execution_count": 114
        },
        {
            "cell_type": "code",
            "source": [
                "plotCorrelationMatrix(df_data, 8)"
            ],
            "metadata": {
                "azdata_cell_guid": "93302dff-f6b0-4743-9c78-262d22a26e36"
            },
            "outputs": [
                {
                    "data": {
                        "text/plain": "<Figure size 640x640 with 2 Axes>",
                        "image/png": "[encoded data removed]"
                    },
                    "metadata": {},
                    "output_type": "display_data"
                }
            ],
            "execution_count": 115
        },
        {
            "cell_type": "code",
            "source": [
                "# Scatter and density plots\r\n",
                "def plotScatterMatrix(df, plotSize, textSize):\r\n",
                "    df = df.select_dtypes(include =[np.number]) # keep only numerical columns\r\n",
                "    # Remove rows and columns that would lead to df being singular\r\n",
                "    df = df.dropna('columns')\r\n",
                "    df = df[[col for col in df if df[col].nunique() > 1]] # keep columns where there are more than 1 unique values\r\n",
                "    columnNames = list(df)\r\n",
                "    if len(columnNames) > 10: # reduce the number of columns for matrix inversion of kernel density plots\r\n",
                "        columnNames = columnNames[:10]\r\n",
                "    df = df[columnNames]\r\n",
                "    ax = pd.plotting.scatter_matrix(df, alpha=0.75, figsize=[plotSize, plotSize], diagonal='kde')\r\n",
                "    corrs = df.corr().values\r\n",
                "    for i, j in zip(*plt.np.triu_indices_from(ax, k = 1)):\r\n",
                "        ax[i, j].annotate('Corr. coef = %.3f' % corrs[i, j], (0.8, 0.2), xycoords='axes fraction', ha='center', va='center', size=textSize)\r\n",
                "    plt.suptitle('Scatter and Density Plot')\r\n",
                "    plt.show()\r\n",
                "\r\n",
                "startTime = time.time()\r\n",
                "\r\n",
                "plotScatterMatrix(df_data, 12, 10) # warning: slow\r\n",
                "\r\n",
                "executionTime = (time.time() - startTime)\r\n",
                "print('Execution time in seconds: ' + str(executionTime))"
            ],
            "metadata": {
                "azdata_cell_guid": "0ece974f-9267-45e7-8b15-022435205bf2"
            },
            "outputs": [],
            "execution_count": null
        },
        {
            "cell_type": "markdown",
            "source": [
                "## Train/Validation Split"
            ],
            "metadata": {
                "azdata_cell_guid": "16311da8-8402-4c5c-8c28-51069b0bfc9f"
            }
        },
        {
            "cell_type": "code",
            "source": [
                "from sklearn.model_selection import train_test_split\r\n",
                "\r\n",
                "train_data, validation_data = train_test_split(df_data, test_size=0.25, random_state=42)\r\n",
                "validation_data.shape"
            ],
            "metadata": {
                "azdata_cell_guid": "a7db75c5-a326-4810-a223-b05fb39ea71b"
            },
            "outputs": [],
            "execution_count": null
        },
        {
            "cell_type": "markdown",
            "source": [
                "## Model"
            ],
            "metadata": {
                "azdata_cell_guid": "3f473699-fa41-48fa-887f-2a737e139cf2"
            }
        },
        {
            "cell_type": "markdown",
            "source": [
                "### Logistic Regression"
            ],
            "metadata": {
                "azdata_cell_guid": "d03ed062-c1c0-4b6c-b527-c23993cf237c"
            }
        },
        {
            "cell_type": "markdown",
            "source": [
                "make a classifier using Logistic Regresssion only for comment attribute with a Bag of Words"
            ],
            "metadata": {
                "azdata_cell_guid": "bdbd8368-4136-4822-a59a-ec0ce2373a02"
            }
        },
        {
            "cell_type": "code",
            "source": [
                "train_comments = train_data[\"comment\"]\r\n",
                "train_comments.head()"
            ],
            "metadata": {
                "azdata_cell_guid": "e4dca6e6-2db8-49f5-9ddc-76bbf193d9ff"
            },
            "outputs": [
                {
                    "data": {
                        "text/plain": "61809     Not drafting Reed, Olsen, or Gronk at where th...\n509675                        Don't you just love the FPTP.\n132418    The question is why Chief Delphi, TBA, and the...\n183253    easier gold farm is warrior Bolster, Target Du...\n190605                                         What a cuck!\nName: comment, dtype: object"
                    },
                    "metadata": {},
                    "execution_count": 119,
                    "output_type": "execute_result"
                }
            ],
            "execution_count": 119
        },
        {
            "cell_type": "code",
            "source": [
                "from sklearn.feature_extraction.text import CountVectorizer, TfidfTransformer\r\n",
                "\r\n",
                "vect = CountVectorizer(max_features=20000)\r\n",
                "train_bow = vect.fit_transform(train_comments)\r\n",
                "train_bow.shape"
            ],
            "metadata": {
                "azdata_cell_guid": "a3a7eb8c-e0be-4bbb-a375-bab240764418"
            },
            "outputs": [
                {
                    "data": {
                        "text/plain": "(758079, 20000)"
                    },
                    "metadata": {},
                    "execution_count": 120,
                    "output_type": "execute_result"
                }
            ],
            "execution_count": 120
        },
        {
            "cell_type": "code",
            "source": [
                "from sklearn.model_selection import GridSearchCV, cross_validate\r\n",
                "from sklearn.linear_model import LogisticRegression, SGDClassifier\r\n",
                "\r\n",
                "log_reg_model = LogisticRegression(random_state=42)\r\n",
                "cross_validate(log_reg_model, train_bow, train_data[\"label\"], cv=3, scoring=\"accuracy\", n_jobs=-1)"
            ],
            "metadata": {
                "azdata_cell_guid": "6cbabbb1-be74-43e4-b1ed-1c766e86eb88"
            },
            "outputs": [
                {
                    "data": {
                        "text/plain": "{'fit_time': array([16.2723825 , 16.42628551, 16.25543022]),\n 'score_time': array([0.09897375, 0.06588769, 0.09797835]),\n 'test_score': array([0.69039111, 0.68786235, 0.69000328])}"
                    },
                    "metadata": {},
                    "execution_count": 121,
                    "output_type": "execute_result"
                }
            ],
            "execution_count": 121
        },
        {
            "cell_type": "code",
            "source": [
                "from nltk.corpus import stopwords\r\n",
                "stop_words_en = stopwords.words(\"english\")\r\n",
                "\r\n",
                "vect = CountVectorizer(strip_accents='unicode', stop_words=stop_words_en, min_df=0.0001, max_df=0.70)\r\n",
                "train_bow = vect.fit_transform(train_comments)\r\n",
                "train_bow.shape"
            ],
            "metadata": {
                "azdata_cell_guid": "8e34aebd-df51-4e74-ade7-c2cdd08bff11"
            },
            "outputs": [
                {
                    "data": {
                        "text/plain": "(758079, 6352)"
                    },
                    "metadata": {},
                    "execution_count": 122,
                    "output_type": "execute_result"
                }
            ],
            "execution_count": 122
        },
        {
            "cell_type": "code",
            "source": [
                "tf_trans = TfidfTransformer()\r\n",
                "train_tf = tf_trans.fit_transform(train_bow)\r\n",
                "train_tf.shape"
            ],
            "metadata": {
                "azdata_cell_guid": "24073cd4-ba4c-44f7-9865-bd3be9c09b1d"
            },
            "outputs": [
                {
                    "data": {
                        "text/plain": "(758079, 6352)"
                    },
                    "metadata": {},
                    "execution_count": 123,
                    "output_type": "execute_result"
                }
            ],
            "execution_count": 123
        },
        {
            "cell_type": "code",
            "source": [
                "from sklearn.pipeline import Pipeline\r\n",
                "\r\n",
                "# recreate the vectorizer and transformer so they are not fit yet\r\n",
                "vect = CountVectorizer(strip_accents='unicode', stop_words=stop_words_en, min_df=0.0001, max_df=0.70)\r\n",
                "tf_trans = TfidfTransformer()\r\n",
                "\r\n",
                "# create the model\r\n",
                "log_reg_model = LogisticRegression(random_state=42, penalty=\"elasticnet\", solver=\"saga\")\r\n",
                "\r\n",
                "pipeline = Pipeline([\r\n",
                "    ('vect', vect),\r\n",
                "    ('tftrans', tf_trans),\r\n",
                "    ('model', log_reg_model)\r\n",
                "])"
            ],
            "metadata": {
                "azdata_cell_guid": "533431af-f35a-4792-9b5f-06aff8256dd3",
                "tags": []
            },
            "outputs": [],
            "execution_count": 125
        },
        {
            "cell_type": "code",
            "source": [
                "train_data.head()"
            ],
            "metadata": {
                "azdata_cell_guid": "2a17628f-344c-4ebf-95c0-b255df9d9936"
            },
            "outputs": [
                {
                    "data": {
                        "text/plain": "        label                                            comment  \\\n61809       0  Not drafting Reed, Olsen, or Gronk at where th...   \n509675      1                      Don't you just love the FPTP.   \n132418      1  The question is why Chief Delphi, TBA, and the...   \n183253      0  easier gold farm is warrior Bolster, Target Du...   \n190605      1                                       What a cuck!   \n\n              author         subreddit  score  ups  downs     date  \\\n61809       tykulton   fantasyfootball      2   -1     -1  2016-12   \n509675    Gardengran            canada      1    1      0  2016-01   \n132418      BellLabs               FRC     11   -1     -1  2016-11   \n183253  Nickster357a       hearthstone      1    1      0  2016-09   \n190605    somenbjorn  ShitWehraboosSay      2    2      0  2016-07   \n\n                created_utc                                     parent_comment  \n61809   2016-12-21 23:35:45  What is your \"one rule\" for the draft next sea...  \n509675  2016-01-10 01:51:50  And in Canada 27% voted for the Liberals so th...  \n132418  2016-11-23 16:13:51                    Why am I not surprised anymore.  \n183253  2016-09-15 00:41:22  lol been playing this for an hour just farming...  \n190605  2016-07-27 15:28:02  At least Sparks, if that's even his real name,...  ",
                        "text/html": "<div>\n<style scoped>\n    .dataframe tbody tr th:only-of-type {\n        vertical-align: middle;\n    }\n\n    .dataframe tbody tr th {\n        vertical-align: top;\n    }\n\n    .dataframe thead th {\n        text-align: right;\n    }\n</style>\n<table border=\"1\" class=\"dataframe\">\n  <thead>\n    <tr style=\"text-align: right;\">\n      <th></th>\n      <th>label</th>\n      <th>comment</th>\n      <th>author</th>\n      <th>subreddit</th>\n      <th>score</th>\n      <th>ups</th>\n      <th>downs</th>\n      <th>date</th>\n      <th>created_utc</th>\n      <th>parent_comment</th>\n    </tr>\n  </thead>\n  <tbody>\n    <tr>\n      <th>61809</th>\n      <td>0</td>\n      <td>Not drafting Reed, Olsen, or Gronk at where th...</td>\n      <td>tykulton</td>\n      <td>fantasyfootball</td>\n      <td>2</td>\n      <td>-1</td>\n      <td>-1</td>\n      <td>2016-12</td>\n      <td>2016-12-21 23:35:45</td>\n      <td>What is your \"one rule\" for the draft next sea...</td>\n    </tr>\n    <tr>\n      <th>509675</th>\n      <td>1</td>\n      <td>Don't you just love the FPTP.</td>\n      <td>Gardengran</td>\n      <td>canada</td>\n      <td>1</td>\n      <td>1</td>\n      <td>0</td>\n      <td>2016-01</td>\n      <td>2016-01-10 01:51:50</td>\n      <td>And in Canada 27% voted for the Liberals so th...</td>\n    </tr>\n    <tr>\n      <th>132418</th>\n      <td>1</td>\n      <td>The question is why Chief Delphi, TBA, and the...</td>\n      <td>BellLabs</td>\n      <td>FRC</td>\n      <td>11</td>\n      <td>-1</td>\n      <td>-1</td>\n      <td>2016-11</td>\n      <td>2016-11-23 16:13:51</td>\n      <td>Why am I not surprised anymore.</td>\n    </tr>\n    <tr>\n      <th>183253</th>\n      <td>0</td>\n      <td>easier gold farm is warrior Bolster, Target Du...</td>\n      <td>Nickster357a</td>\n      <td>hearthstone</td>\n      <td>1</td>\n      <td>1</td>\n      <td>0</td>\n      <td>2016-09</td>\n      <td>2016-09-15 00:41:22</td>\n      <td>lol been playing this for an hour just farming...</td>\n    </tr>\n    <tr>\n      <th>190605</th>\n      <td>1</td>\n      <td>What a cuck!</td>\n      <td>somenbjorn</td>\n      <td>ShitWehraboosSay</td>\n      <td>2</td>\n      <td>2</td>\n      <td>0</td>\n      <td>2016-07</td>\n      <td>2016-07-27 15:28:02</td>\n      <td>At least Sparks, if that's even his real name,...</td>\n    </tr>\n  </tbody>\n</table>\n</div>"
                    },
                    "metadata": {},
                    "execution_count": 126,
                    "output_type": "execute_result"
                }
            ],
            "execution_count": 126
        },
        {
            "cell_type": "code",
            "source": [
                "start_time = time.time()\r\n",
                "\r\n",
                "param_grid = {\r\n",
                "    'vect__ngram_range': [(1, 1), (1, 2), (1, 3)],\r\n",
                "    'vect__max_features': (5000, 15000, 30000),\r\n",
                "    'model__l1_ratio': (0.0, 0.25, 0.50, 0.75, 1.0)\r\n",
                "}\r\n",
                "\r\n",
                "grid_logreg = GridSearchCV(pipeline, param_grid, scoring = \"accuracy\", cv = 3, n_jobs =- 1)\r\n",
                "grid_logreg.fit(train_comments, train_data[\"label\"])\r\n",
                "\r\n",
                "print(\"--- %s seconds ---\" % (time.time() - start_time))"
            ],
            "metadata": {
                "azdata_cell_guid": "6cb4bbdb-b55d-4dc9-b365-461988d14546"
            },
            "outputs": [],
            "execution_count": null
        },
        {
            "cell_type": "code",
            "source": [
                "print(grid_logreg.best_score_)\r\n",
                "for param_name in sorted(param_grid.keys()):\r\n",
                "    print(\"%s: %r\" % (param_name, grid_logreg.best_params_[param_name]))"
            ],
            "metadata": {
                "azdata_cell_guid": "ac159452-79b0-495f-900f-58a58e05721d"
            },
            "outputs": [
                {
                    "traceback": [
                        "\u001b[1;31m---------------------------------------------------------------------------\u001b[0m",
                        "\u001b[1;31mAttributeError\u001b[0m                            Traceback (most recent call last)",
                        "\u001b[1;32m<ipython-input-130-661c89fe9e30>\u001b[0m in \u001b[0;36m<module>\u001b[1;34m\u001b[0m\n\u001b[1;32m----> 1\u001b[1;33m \u001b[0mprint\u001b[0m\u001b[1;33m(\u001b[0m\u001b[0mgrid_logreg\u001b[0m\u001b[1;33m.\u001b[0m\u001b[0mbest_score_\u001b[0m\u001b[1;33m)\u001b[0m\u001b[1;33m\u001b[0m\u001b[1;33m\u001b[0m\u001b[0m\n\u001b[0m\u001b[0;32m      2\u001b[0m \u001b[1;32mfor\u001b[0m \u001b[0mparam_name\u001b[0m \u001b[1;32min\u001b[0m \u001b[0msorted\u001b[0m\u001b[1;33m(\u001b[0m\u001b[0mparam_grid\u001b[0m\u001b[1;33m.\u001b[0m\u001b[0mkeys\u001b[0m\u001b[1;33m(\u001b[0m\u001b[1;33m)\u001b[0m\u001b[1;33m)\u001b[0m\u001b[1;33m:\u001b[0m\u001b[1;33m\u001b[0m\u001b[1;33m\u001b[0m\u001b[0m\n\u001b[0;32m      3\u001b[0m     \u001b[0mprint\u001b[0m\u001b[1;33m(\u001b[0m\u001b[1;34m\"%s: %r\"\u001b[0m \u001b[1;33m%\u001b[0m \u001b[1;33m(\u001b[0m\u001b[0mparam_name\u001b[0m\u001b[1;33m,\u001b[0m \u001b[0mgrid_logreg\u001b[0m\u001b[1;33m.\u001b[0m\u001b[0mbest_params_\u001b[0m\u001b[1;33m[\u001b[0m\u001b[0mparam_name\u001b[0m\u001b[1;33m]\u001b[0m\u001b[1;33m)\u001b[0m\u001b[1;33m)\u001b[0m\u001b[1;33m\u001b[0m\u001b[1;33m\u001b[0m\u001b[0m\n",
                        "\u001b[1;31mAttributeError\u001b[0m: 'GridSearchCV' object has no attribute 'best_score_'"
                    ],
                    "ename": "AttributeError",
                    "evalue": "'GridSearchCV' object has no attribute 'best_score_'",
                    "output_type": "error"
                }
            ],
            "execution_count": 130
        },
        {
            "cell_type": "markdown",
            "source": [
                "Naive Bayes"
            ],
            "metadata": {
                "azdata_cell_guid": "2c66b076-db3f-421d-935f-31c9e23af1cd"
            }
        },
        {
            "cell_type": "code",
            "source": [
                "from sklearn.naive_bayes import MultinomialNB\r\n",
                "\r\n",
                "vect = CountVectorizer(strip_accents='unicode', stop_words=stopwords, min_df=0.0001, max_df=0.70)\r\n",
                "tf_trans = TfidfTransformer()\r\n",
                "\r\n",
                "# create the NB model\r\n",
                "nb_model = MultinomialNB()\r\n",
                "\r\n",
                "pipeline = Pipeline([\r\n",
                "    ('vect', vect),\r\n",
                "    ('tftrans', tf_trans),\r\n",
                "    ('model', nb_model)\r\n",
                "])"
            ],
            "metadata": {
                "azdata_cell_guid": "d2d06c38-bab8-4bdd-95ee-f897d1454e21"
            },
            "outputs": [],
            "execution_count": 86
        },
        {
            "cell_type": "code",
            "source": [
                "param_grid = {\r\n",
                "    'vect__ngram_range': [(1, 1), (1, 2), (1, 3)],\r\n",
                "    'vect__max_features': (5000, 15000, 30000)\r\n",
                "}\r\n",
                "\r\n",
                "grid_nb = GridSearchCV(pipeline, param_grid, scoring=\"accuracy\", cv=3, n_jobs=-1)\r\n",
                "grid_nb.fit(train_comments, train_data[\"label\"])"
            ],
            "metadata": {
                "azdata_cell_guid": "7c3efbe9-c071-4a4c-84d5-37ad9c1f9dee"
            },
            "outputs": [
                {
                    "traceback": [
                        "\u001b[1;31m---------------------------------------------------------------------------\u001b[0m",
                        "\u001b[1;31mTypeError\u001b[0m                                 Traceback (most recent call last)",
                        "\u001b[1;32m<ipython-input-87-451f4b79173d>\u001b[0m in \u001b[0;36m<module>\u001b[1;34m\u001b[0m\n\u001b[0;32m      5\u001b[0m \u001b[1;33m\u001b[0m\u001b[0m\n\u001b[0;32m      6\u001b[0m \u001b[0mgrid_nb\u001b[0m \u001b[1;33m=\u001b[0m \u001b[0mGridSearchCV\u001b[0m\u001b[1;33m(\u001b[0m\u001b[0mpipeline\u001b[0m\u001b[1;33m,\u001b[0m \u001b[0mparam_grid\u001b[0m\u001b[1;33m,\u001b[0m \u001b[0mscoring\u001b[0m\u001b[1;33m=\u001b[0m\u001b[1;34m\"accuracy\"\u001b[0m\u001b[1;33m,\u001b[0m \u001b[0mcv\u001b[0m\u001b[1;33m=\u001b[0m\u001b[1;36m3\u001b[0m\u001b[1;33m,\u001b[0m \u001b[0mn_jobs\u001b[0m\u001b[1;33m=\u001b[0m\u001b[1;33m-\u001b[0m\u001b[1;36m1\u001b[0m\u001b[1;33m)\u001b[0m\u001b[1;33m\u001b[0m\u001b[1;33m\u001b[0m\u001b[0m\n\u001b[1;32m----> 7\u001b[1;33m \u001b[0mgrid_nb\u001b[0m\u001b[1;33m.\u001b[0m\u001b[0mfit\u001b[0m\u001b[1;33m(\u001b[0m\u001b[0mtrain_comments\u001b[0m\u001b[1;33m,\u001b[0m \u001b[0mtrain_data\u001b[0m\u001b[1;33m[\u001b[0m\u001b[1;34m\"label\"\u001b[0m\u001b[1;33m]\u001b[0m\u001b[1;33m)\u001b[0m\u001b[1;33m\u001b[0m\u001b[1;33m\u001b[0m\u001b[0m\n\u001b[0m",
                        "\u001b[1;32m~\\anaconda3\\lib\\site-packages\\sklearn\\model_selection\\_search.py\u001b[0m in \u001b[0;36mfit\u001b[1;34m(self, X, y, groups, **fit_params)\u001b[0m\n\u001b[0;32m    737\u001b[0m             \u001b[0mrefit_start_time\u001b[0m \u001b[1;33m=\u001b[0m \u001b[0mtime\u001b[0m\u001b[1;33m.\u001b[0m\u001b[0mtime\u001b[0m\u001b[1;33m(\u001b[0m\u001b[1;33m)\u001b[0m\u001b[1;33m\u001b[0m\u001b[1;33m\u001b[0m\u001b[0m\n\u001b[0;32m    738\u001b[0m             \u001b[1;32mif\u001b[0m \u001b[0my\u001b[0m \u001b[1;32mis\u001b[0m \u001b[1;32mnot\u001b[0m \u001b[1;32mNone\u001b[0m\u001b[1;33m:\u001b[0m\u001b[1;33m\u001b[0m\u001b[1;33m\u001b[0m\u001b[0m\n\u001b[1;32m--> 739\u001b[1;33m                 \u001b[0mself\u001b[0m\u001b[1;33m.\u001b[0m\u001b[0mbest_estimator_\u001b[0m\u001b[1;33m.\u001b[0m\u001b[0mfit\u001b[0m\u001b[1;33m(\u001b[0m\u001b[0mX\u001b[0m\u001b[1;33m,\u001b[0m \u001b[0my\u001b[0m\u001b[1;33m,\u001b[0m \u001b[1;33m**\u001b[0m\u001b[0mfit_params\u001b[0m\u001b[1;33m)\u001b[0m\u001b[1;33m\u001b[0m\u001b[1;33m\u001b[0m\u001b[0m\n\u001b[0m\u001b[0;32m    740\u001b[0m             \u001b[1;32melse\u001b[0m\u001b[1;33m:\u001b[0m\u001b[1;33m\u001b[0m\u001b[1;33m\u001b[0m\u001b[0m\n\u001b[0;32m    741\u001b[0m                 \u001b[0mself\u001b[0m\u001b[1;33m.\u001b[0m\u001b[0mbest_estimator_\u001b[0m\u001b[1;33m.\u001b[0m\u001b[0mfit\u001b[0m\u001b[1;33m(\u001b[0m\u001b[0mX\u001b[0m\u001b[1;33m,\u001b[0m \u001b[1;33m**\u001b[0m\u001b[0mfit_params\u001b[0m\u001b[1;33m)\u001b[0m\u001b[1;33m\u001b[0m\u001b[1;33m\u001b[0m\u001b[0m\n",
                        "\u001b[1;32m~\\anaconda3\\lib\\site-packages\\sklearn\\pipeline.py\u001b[0m in \u001b[0;36mfit\u001b[1;34m(self, X, y, **fit_params)\u001b[0m\n\u001b[0;32m    348\u001b[0m             \u001b[0mThis\u001b[0m \u001b[0mestimator\u001b[0m\u001b[1;33m\u001b[0m\u001b[1;33m\u001b[0m\u001b[0m\n\u001b[0;32m    349\u001b[0m         \"\"\"\n\u001b[1;32m--> 350\u001b[1;33m         \u001b[0mXt\u001b[0m\u001b[1;33m,\u001b[0m \u001b[0mfit_params\u001b[0m \u001b[1;33m=\u001b[0m \u001b[0mself\u001b[0m\u001b[1;33m.\u001b[0m\u001b[0m_fit\u001b[0m\u001b[1;33m(\u001b[0m\u001b[0mX\u001b[0m\u001b[1;33m,\u001b[0m \u001b[0my\u001b[0m\u001b[1;33m,\u001b[0m \u001b[1;33m**\u001b[0m\u001b[0mfit_params\u001b[0m\u001b[1;33m)\u001b[0m\u001b[1;33m\u001b[0m\u001b[1;33m\u001b[0m\u001b[0m\n\u001b[0m\u001b[0;32m    351\u001b[0m         with _print_elapsed_time('Pipeline',\n\u001b[0;32m    352\u001b[0m                                  self._log_message(len(self.steps) - 1)):\n",
                        "\u001b[1;32m~\\anaconda3\\lib\\site-packages\\sklearn\\pipeline.py\u001b[0m in \u001b[0;36m_fit\u001b[1;34m(self, X, y, **fit_params)\u001b[0m\n\u001b[0;32m    313\u001b[0m                 \u001b[0mmessage_clsname\u001b[0m\u001b[1;33m=\u001b[0m\u001b[1;34m'Pipeline'\u001b[0m\u001b[1;33m,\u001b[0m\u001b[1;33m\u001b[0m\u001b[1;33m\u001b[0m\u001b[0m\n\u001b[0;32m    314\u001b[0m                 \u001b[0mmessage\u001b[0m\u001b[1;33m=\u001b[0m\u001b[0mself\u001b[0m\u001b[1;33m.\u001b[0m\u001b[0m_log_message\u001b[0m\u001b[1;33m(\u001b[0m\u001b[0mstep_idx\u001b[0m\u001b[1;33m)\u001b[0m\u001b[1;33m,\u001b[0m\u001b[1;33m\u001b[0m\u001b[1;33m\u001b[0m\u001b[0m\n\u001b[1;32m--> 315\u001b[1;33m                 **fit_params_steps[name])\n\u001b[0m\u001b[0;32m    316\u001b[0m             \u001b[1;31m# Replace the transformer of the step with the fitted\u001b[0m\u001b[1;33m\u001b[0m\u001b[1;33m\u001b[0m\u001b[1;33m\u001b[0m\u001b[0m\n\u001b[0;32m    317\u001b[0m             \u001b[1;31m# transformer. This is necessary when loading the transformer\u001b[0m\u001b[1;33m\u001b[0m\u001b[1;33m\u001b[0m\u001b[1;33m\u001b[0m\u001b[0m\n",
                        "\u001b[1;32m~\\anaconda3\\lib\\site-packages\\joblib\\memory.py\u001b[0m in \u001b[0;36m__call__\u001b[1;34m(self, *args, **kwargs)\u001b[0m\n\u001b[0;32m    353\u001b[0m \u001b[1;33m\u001b[0m\u001b[0m\n\u001b[0;32m    354\u001b[0m     \u001b[1;32mdef\u001b[0m \u001b[0m__call__\u001b[0m\u001b[1;33m(\u001b[0m\u001b[0mself\u001b[0m\u001b[1;33m,\u001b[0m \u001b[1;33m*\u001b[0m\u001b[0margs\u001b[0m\u001b[1;33m,\u001b[0m \u001b[1;33m**\u001b[0m\u001b[0mkwargs\u001b[0m\u001b[1;33m)\u001b[0m\u001b[1;33m:\u001b[0m\u001b[1;33m\u001b[0m\u001b[1;33m\u001b[0m\u001b[0m\n\u001b[1;32m--> 355\u001b[1;33m         \u001b[1;32mreturn\u001b[0m \u001b[0mself\u001b[0m\u001b[1;33m.\u001b[0m\u001b[0mfunc\u001b[0m\u001b[1;33m(\u001b[0m\u001b[1;33m*\u001b[0m\u001b[0margs\u001b[0m\u001b[1;33m,\u001b[0m \u001b[1;33m**\u001b[0m\u001b[0mkwargs\u001b[0m\u001b[1;33m)\u001b[0m\u001b[1;33m\u001b[0m\u001b[1;33m\u001b[0m\u001b[0m\n\u001b[0m\u001b[0;32m    356\u001b[0m \u001b[1;33m\u001b[0m\u001b[0m\n\u001b[0;32m    357\u001b[0m     \u001b[1;32mdef\u001b[0m \u001b[0mcall_and_shelve\u001b[0m\u001b[1;33m(\u001b[0m\u001b[0mself\u001b[0m\u001b[1;33m,\u001b[0m \u001b[1;33m*\u001b[0m\u001b[0margs\u001b[0m\u001b[1;33m,\u001b[0m \u001b[1;33m**\u001b[0m\u001b[0mkwargs\u001b[0m\u001b[1;33m)\u001b[0m\u001b[1;33m:\u001b[0m\u001b[1;33m\u001b[0m\u001b[1;33m\u001b[0m\u001b[0m\n",
                        "\u001b[1;32m~\\anaconda3\\lib\\site-packages\\sklearn\\pipeline.py\u001b[0m in \u001b[0;36m_fit_transform_one\u001b[1;34m(transformer, X, y, weight, message_clsname, message, **fit_params)\u001b[0m\n\u001b[0;32m    726\u001b[0m     \u001b[1;32mwith\u001b[0m \u001b[0m_print_elapsed_time\u001b[0m\u001b[1;33m(\u001b[0m\u001b[0mmessage_clsname\u001b[0m\u001b[1;33m,\u001b[0m \u001b[0mmessage\u001b[0m\u001b[1;33m)\u001b[0m\u001b[1;33m:\u001b[0m\u001b[1;33m\u001b[0m\u001b[1;33m\u001b[0m\u001b[0m\n\u001b[0;32m    727\u001b[0m         \u001b[1;32mif\u001b[0m \u001b[0mhasattr\u001b[0m\u001b[1;33m(\u001b[0m\u001b[0mtransformer\u001b[0m\u001b[1;33m,\u001b[0m \u001b[1;34m'fit_transform'\u001b[0m\u001b[1;33m)\u001b[0m\u001b[1;33m:\u001b[0m\u001b[1;33m\u001b[0m\u001b[1;33m\u001b[0m\u001b[0m\n\u001b[1;32m--> 728\u001b[1;33m             \u001b[0mres\u001b[0m \u001b[1;33m=\u001b[0m \u001b[0mtransformer\u001b[0m\u001b[1;33m.\u001b[0m\u001b[0mfit_transform\u001b[0m\u001b[1;33m(\u001b[0m\u001b[0mX\u001b[0m\u001b[1;33m,\u001b[0m \u001b[0my\u001b[0m\u001b[1;33m,\u001b[0m \u001b[1;33m**\u001b[0m\u001b[0mfit_params\u001b[0m\u001b[1;33m)\u001b[0m\u001b[1;33m\u001b[0m\u001b[1;33m\u001b[0m\u001b[0m\n\u001b[0m\u001b[0;32m    729\u001b[0m         \u001b[1;32melse\u001b[0m\u001b[1;33m:\u001b[0m\u001b[1;33m\u001b[0m\u001b[1;33m\u001b[0m\u001b[0m\n\u001b[0;32m    730\u001b[0m             \u001b[0mres\u001b[0m \u001b[1;33m=\u001b[0m \u001b[0mtransformer\u001b[0m\u001b[1;33m.\u001b[0m\u001b[0mfit\u001b[0m\u001b[1;33m(\u001b[0m\u001b[0mX\u001b[0m\u001b[1;33m,\u001b[0m \u001b[0my\u001b[0m\u001b[1;33m,\u001b[0m \u001b[1;33m**\u001b[0m\u001b[0mfit_params\u001b[0m\u001b[1;33m)\u001b[0m\u001b[1;33m.\u001b[0m\u001b[0mtransform\u001b[0m\u001b[1;33m(\u001b[0m\u001b[0mX\u001b[0m\u001b[1;33m)\u001b[0m\u001b[1;33m\u001b[0m\u001b[1;33m\u001b[0m\u001b[0m\n",
                        "\u001b[1;32m~\\anaconda3\\lib\\site-packages\\sklearn\\feature_extraction\\text.py\u001b[0m in \u001b[0;36mfit_transform\u001b[1;34m(self, raw_documents, y)\u001b[0m\n\u001b[0;32m   1218\u001b[0m \u001b[1;33m\u001b[0m\u001b[0m\n\u001b[0;32m   1219\u001b[0m         vocabulary, X = self._count_vocab(raw_documents,\n\u001b[1;32m-> 1220\u001b[1;33m                                           self.fixed_vocabulary_)\n\u001b[0m\u001b[0;32m   1221\u001b[0m \u001b[1;33m\u001b[0m\u001b[0m\n\u001b[0;32m   1222\u001b[0m         \u001b[1;32mif\u001b[0m \u001b[0mself\u001b[0m\u001b[1;33m.\u001b[0m\u001b[0mbinary\u001b[0m\u001b[1;33m:\u001b[0m\u001b[1;33m\u001b[0m\u001b[1;33m\u001b[0m\u001b[0m\n",
                        "\u001b[1;32m~\\anaconda3\\lib\\site-packages\\sklearn\\feature_extraction\\text.py\u001b[0m in \u001b[0;36m_count_vocab\u001b[1;34m(self, raw_documents, fixed_vocab)\u001b[0m\n\u001b[0;32m   1121\u001b[0m             \u001b[0mvocabulary\u001b[0m\u001b[1;33m.\u001b[0m\u001b[0mdefault_factory\u001b[0m \u001b[1;33m=\u001b[0m \u001b[0mvocabulary\u001b[0m\u001b[1;33m.\u001b[0m\u001b[0m__len__\u001b[0m\u001b[1;33m\u001b[0m\u001b[1;33m\u001b[0m\u001b[0m\n\u001b[0;32m   1122\u001b[0m \u001b[1;33m\u001b[0m\u001b[0m\n\u001b[1;32m-> 1123\u001b[1;33m         \u001b[0manalyze\u001b[0m \u001b[1;33m=\u001b[0m \u001b[0mself\u001b[0m\u001b[1;33m.\u001b[0m\u001b[0mbuild_analyzer\u001b[0m\u001b[1;33m(\u001b[0m\u001b[1;33m)\u001b[0m\u001b[1;33m\u001b[0m\u001b[1;33m\u001b[0m\u001b[0m\n\u001b[0m\u001b[0;32m   1124\u001b[0m         \u001b[0mj_indices\u001b[0m \u001b[1;33m=\u001b[0m \u001b[1;33m[\u001b[0m\u001b[1;33m]\u001b[0m\u001b[1;33m\u001b[0m\u001b[1;33m\u001b[0m\u001b[0m\n\u001b[0;32m   1125\u001b[0m         \u001b[0mindptr\u001b[0m \u001b[1;33m=\u001b[0m \u001b[1;33m[\u001b[0m\u001b[1;33m]\u001b[0m\u001b[1;33m\u001b[0m\u001b[1;33m\u001b[0m\u001b[0m\n",
                        "\u001b[1;32m~\\anaconda3\\lib\\site-packages\\sklearn\\feature_extraction\\text.py\u001b[0m in \u001b[0;36mbuild_analyzer\u001b[1;34m(self)\u001b[0m\n\u001b[0;32m    443\u001b[0m \u001b[1;33m\u001b[0m\u001b[0m\n\u001b[0;32m    444\u001b[0m         \u001b[1;32melif\u001b[0m \u001b[0mself\u001b[0m\u001b[1;33m.\u001b[0m\u001b[0manalyzer\u001b[0m \u001b[1;33m==\u001b[0m \u001b[1;34m'word'\u001b[0m\u001b[1;33m:\u001b[0m\u001b[1;33m\u001b[0m\u001b[1;33m\u001b[0m\u001b[0m\n\u001b[1;32m--> 445\u001b[1;33m             \u001b[0mstop_words\u001b[0m \u001b[1;33m=\u001b[0m \u001b[0mself\u001b[0m\u001b[1;33m.\u001b[0m\u001b[0mget_stop_words\u001b[0m\u001b[1;33m(\u001b[0m\u001b[1;33m)\u001b[0m\u001b[1;33m\u001b[0m\u001b[1;33m\u001b[0m\u001b[0m\n\u001b[0m\u001b[0;32m    446\u001b[0m             \u001b[0mtokenize\u001b[0m \u001b[1;33m=\u001b[0m \u001b[0mself\u001b[0m\u001b[1;33m.\u001b[0m\u001b[0mbuild_tokenizer\u001b[0m\u001b[1;33m(\u001b[0m\u001b[1;33m)\u001b[0m\u001b[1;33m\u001b[0m\u001b[1;33m\u001b[0m\u001b[0m\n\u001b[0;32m    447\u001b[0m             self._check_stop_words_consistency(stop_words, preprocess,\n",
                        "\u001b[1;32m~\\anaconda3\\lib\\site-packages\\sklearn\\feature_extraction\\text.py\u001b[0m in \u001b[0;36mget_stop_words\u001b[1;34m(self)\u001b[0m\n\u001b[0;32m    352\u001b[0m                 \u001b[0mA\u001b[0m \u001b[0mlist\u001b[0m \u001b[0mof\u001b[0m \u001b[0mstop\u001b[0m \u001b[0mwords\u001b[0m\u001b[1;33m.\u001b[0m\u001b[1;33m\u001b[0m\u001b[1;33m\u001b[0m\u001b[0m\n\u001b[0;32m    353\u001b[0m         \"\"\"\n\u001b[1;32m--> 354\u001b[1;33m         \u001b[1;32mreturn\u001b[0m \u001b[0m_check_stop_list\u001b[0m\u001b[1;33m(\u001b[0m\u001b[0mself\u001b[0m\u001b[1;33m.\u001b[0m\u001b[0mstop_words\u001b[0m\u001b[1;33m)\u001b[0m\u001b[1;33m\u001b[0m\u001b[1;33m\u001b[0m\u001b[0m\n\u001b[0m\u001b[0;32m    355\u001b[0m \u001b[1;33m\u001b[0m\u001b[0m\n\u001b[0;32m    356\u001b[0m     \u001b[1;32mdef\u001b[0m \u001b[0m_check_stop_words_consistency\u001b[0m\u001b[1;33m(\u001b[0m\u001b[0mself\u001b[0m\u001b[1;33m,\u001b[0m \u001b[0mstop_words\u001b[0m\u001b[1;33m,\u001b[0m \u001b[0mpreprocess\u001b[0m\u001b[1;33m,\u001b[0m \u001b[0mtokenize\u001b[0m\u001b[1;33m)\u001b[0m\u001b[1;33m:\u001b[0m\u001b[1;33m\u001b[0m\u001b[1;33m\u001b[0m\u001b[0m\n",
                        "\u001b[1;32m~\\anaconda3\\lib\\site-packages\\sklearn\\feature_extraction\\text.py\u001b[0m in \u001b[0;36m_check_stop_list\u001b[1;34m(stop)\u001b[0m\n\u001b[0;32m    182\u001b[0m         \u001b[1;32mreturn\u001b[0m \u001b[1;32mNone\u001b[0m\u001b[1;33m\u001b[0m\u001b[1;33m\u001b[0m\u001b[0m\n\u001b[0;32m    183\u001b[0m     \u001b[1;32melse\u001b[0m\u001b[1;33m:\u001b[0m  \u001b[1;31m# assume it's a collection\u001b[0m\u001b[1;33m\u001b[0m\u001b[1;33m\u001b[0m\u001b[0m\n\u001b[1;32m--> 184\u001b[1;33m         \u001b[1;32mreturn\u001b[0m \u001b[0mfrozenset\u001b[0m\u001b[1;33m(\u001b[0m\u001b[0mstop\u001b[0m\u001b[1;33m)\u001b[0m\u001b[1;33m\u001b[0m\u001b[1;33m\u001b[0m\u001b[0m\n\u001b[0m\u001b[0;32m    185\u001b[0m \u001b[1;33m\u001b[0m\u001b[0m\n\u001b[0;32m    186\u001b[0m \u001b[1;33m\u001b[0m\u001b[0m\n",
                        "\u001b[1;31mTypeError\u001b[0m: 'WordListCorpusReader' object is not iterable"
                    ],
                    "ename": "TypeError",
                    "evalue": "'WordListCorpusReader' object is not iterable",
                    "output_type": "error"
                }
            ],
            "execution_count": 87
        },
        {
            "cell_type": "code",
            "source": [
                "print(grid_nb.best_score_)\r\n",
                "for param_name in sorted(param_grid.keys()):\r\n",
                "    print(\"%s: %r\" % (param_name, grid_nb.best_params_[param_name]))"
            ],
            "metadata": {
                "azdata_cell_guid": "f7944e6b-0abd-46d4-bc80-96806958f852"
            },
            "outputs": [
                {
                    "name": "stdout",
                    "text": "nan\nvect__max_features: 5000\nvect__ngram_range: (1, 1)\n",
                    "output_type": "stream"
                }
            ],
            "execution_count": 88
        }
    ]
}